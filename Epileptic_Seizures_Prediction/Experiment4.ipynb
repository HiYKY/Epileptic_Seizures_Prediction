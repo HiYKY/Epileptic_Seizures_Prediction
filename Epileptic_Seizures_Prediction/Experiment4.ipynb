{
 "cells": [
  {
   "cell_type": "code",
   "execution_count": 10,
   "metadata": {
    "collapsed": true,
    "scrolled": true
   },
   "outputs": [],
   "source": [
    "import os\n",
    "import numpy as np\n",
    "import glob\n",
    "import pandas as pd  \n",
    "#from keras import utils as np_utils\n",
    "import random\n",
    "import math as mp\n",
    "from scipy.signal import resample\n",
    "\n",
    "from sklearn.preprocessing import StandardScaler\n",
    "from sklearn.model_selection import train_test_split\n",
    "from sklearn.metrics import accuracy_score\n",
    "from sklearn.metrics import confusion_matrix\n",
    "\n",
    "import tensorflow as tf\n",
    "from tensorflow.keras import layers, models\n",
    "\n",
    "%matplotlib inline\n",
    "import matplotlib.pyplot as plt"
   ]
  },
  {
   "cell_type": "code",
   "execution_count": 8,
   "metadata": {
    "collapsed": true
   },
   "outputs": [],
   "source": [
    "# generate CHBMIT non seizure samples \n",
    "# chb - all\n",
    "path='/home/ad930/datasetsv4/'\n",
    "dr='non_seizures'\n",
    "nfilenames=[]\n",
    "end='/*.csv'\n",
    "nfilenames=glob.glob(path + dr + end)\n",
    "\n",
    "def generate_chbmit_datasets(filenames):\n",
    "    flag=0\n",
    "    counter=0\n",
    "    oldFS=256\n",
    "    newFS=173.61\n",
    "    arry=[]    \n",
    "    for files in filenames:\n",
    "        if counter==169:\n",
    "            break\n",
    "        df=pd.read_csv(files)\n",
    "        if '\\'F3-C3\\'' in df:\n",
    "            df = df[['\\'F3-C3\\'']]\n",
    "            if df.shape[0] == 6041:\n",
    "                newNumSamples = mp.ceil((df.shape[0] / oldFS) * newFS)\n",
    "                flag=1\n",
    "            if df.shape[0] == 6042:\n",
    "                newNumSamples = mp.floor((df.shape[0] / oldFS) * newFS)\n",
    "                flag=1\n",
    "            if flag==1:\n",
    "                newData = pd.DataFrame(resample(df, newNumSamples))\n",
    "                arry.append(np.array(newData,dtype=\"float32\"))\n",
    "            counter=counter+1\n",
    "    return np.array(arry) "
   ]
  },
  {
   "cell_type": "code",
   "execution_count": 9,
   "metadata": {
    "scrolled": true
   },
   "outputs": [
    {
     "data": {
      "text/plain": [
       "(169, 4097, 1)"
      ]
     },
     "execution_count": 9,
     "metadata": {},
     "output_type": "execute_result"
    }
   ],
   "source": [
    "chb_signals_n=generate_chbmit_datasets(nfilenames)\n",
    "chb_signals_n.shape"
   ]
  },
  {
   "cell_type": "code",
   "execution_count": 2,
   "metadata": {
    "collapsed": true
   },
   "outputs": [],
   "source": [
    "# generate CHBMIT seizure samples \n",
    "# chb -all\n",
    "path='/home/ad930/datasetsv4/'\n",
    "dr='seizures'\n",
    "sfilenames=[]\n",
    "end='/*.csv'\n",
    "sfilenames=glob.glob(path + dr + end)\n",
    "\n",
    "def generate_chbmit_datasets(filenames):\n",
    "    counter=0\n",
    "    oldFS=256\n",
    "    newFS=173.61\n",
    "    arry=[]    \n",
    "    for files in filenames:\n",
    "        df=pd.read_csv(files)\n",
    "        if '\\'F3-C3\\'' in df:\n",
    "            df = df[['\\'F3-C3\\'']]\n",
    "            if df.shape[0] == 6041:\n",
    "                newNumSamples = mp.ceil((df.shape[0] / oldFS) * newFS)\n",
    "                flag=1\n",
    "            if df.shape[0] == 6042:\n",
    "                newNumSamples = mp.floor((df.shape[0] / oldFS) * newFS)\n",
    "                flag=1\n",
    "            if flag==1:\n",
    "                newData = pd.DataFrame(resample(df, newNumSamples))\n",
    "                arry.append(np.array(newData,dtype=\"float32\"))\n",
    "    return np.array(arry) "
   ]
  },
  {
   "cell_type": "code",
   "execution_count": 3,
   "metadata": {},
   "outputs": [
    {
     "data": {
      "text/plain": [
       "(169, 4097, 1)"
      ]
     },
     "execution_count": 3,
     "metadata": {},
     "output_type": "execute_result"
    }
   ],
   "source": [
    "chb_signals=generate_chbmit_datasets(sfilenames)\n",
    "chb_signals.shape"
   ]
  },
  {
   "cell_type": "code",
   "execution_count": 11,
   "metadata": {
    "collapsed": true
   },
   "outputs": [],
   "source": [
    "scaler=StandardScaler()"
   ]
  },
  {
   "cell_type": "code",
   "execution_count": 12,
   "metadata": {
    "collapsed": true
   },
   "outputs": [],
   "source": [
    "X = chb_signals_n\n",
    "XC=X\n",
    "X1=X.reshape(len(X)*4097,order='F')\n",
    "X2=X1.reshape(4097,len(X))\n",
    "\n",
    "X2=scaler.fit_transform(X2)    #normalize(X2,axis=1)\n",
    "\n",
    "X3=np.reshape(X2,4097*len(X),order='F')\n",
    "X4=X3.reshape(len(X),4097,1)\n",
    "X=X4\n",
    "chb_signals_n = X"
   ]
  },
  {
   "cell_type": "code",
   "execution_count": 13,
   "metadata": {
    "collapsed": true
   },
   "outputs": [],
   "source": [
    "X = chb_signals\n",
    "XC=X\n",
    "X1=X.reshape(len(X)*4097,order='F')\n",
    "X2=X1.reshape(4097,len(X))\n",
    "\n",
    "X2=scaler.fit_transform(X2)   #normalize(X2,axis=1)\n",
    "\n",
    "X3=np.reshape(X2,4097*len(X),order='F')\n",
    "X4=X3.reshape(len(X),4097,1)\n",
    "X=X4\n",
    "chb_signals = X"
   ]
  },
  {
   "cell_type": "code",
   "execution_count": 14,
   "metadata": {
    "collapsed": true
   },
   "outputs": [],
   "source": [
    "X = np.append(chb_signals_n,chb_signals, axis = 0)"
   ]
  },
  {
   "cell_type": "code",
   "execution_count": 15,
   "metadata": {},
   "outputs": [
    {
     "data": {
      "text/plain": [
       "(338, 4097, 1)"
      ]
     },
     "execution_count": 15,
     "metadata": {},
     "output_type": "execute_result"
    }
   ],
   "source": [
    "X.shape"
   ]
  },
  {
   "cell_type": "code",
   "execution_count": 16,
   "metadata": {
    "collapsed": true
   },
   "outputs": [],
   "source": [
    "# 0 for non-seizure, 1 for seizure\n",
    "def generate_labels(cutoff,ln):\n",
    "    arry=[]\n",
    "    for i in range(0,ln):\n",
    "        if i>=cutoff:\n",
    "            arry.append(1)  # seizure\n",
    "        else:\n",
    "            arry.append(0)  # non-seizure\n",
    "    return np.array(arry,dtype='int64')"
   ]
  },
  {
   "cell_type": "code",
   "execution_count": 17,
   "metadata": {
    "collapsed": true
   },
   "outputs": [],
   "source": [
    "yy=generate_labels(169,338)"
   ]
  },
  {
   "cell_type": "code",
   "execution_count": 18,
   "metadata": {},
   "outputs": [
    {
     "data": {
      "text/plain": [
       "array([0, 0, 0, 0, 0, 0, 0, 0, 0, 0, 0, 0, 0, 0, 0, 0, 0, 0, 0, 0, 0, 0,\n",
       "       0, 0, 0, 0, 0, 0, 0, 0, 0, 0, 0, 0, 0, 0, 0, 0, 0, 0, 0, 0, 0, 0,\n",
       "       0, 0, 0, 0, 0, 0, 0, 0, 0, 0, 0, 0, 0, 0, 0, 0, 0, 0, 0, 0, 0, 0,\n",
       "       0, 0, 0, 0, 0, 0, 0, 0, 0, 0, 0, 0, 0, 0, 0, 0, 0, 0, 0, 0, 0, 0,\n",
       "       0, 0, 0, 0, 0, 0, 0, 0, 0, 0, 0, 0, 0, 0, 0, 0, 0, 0, 0, 0, 0, 0,\n",
       "       0, 0, 0, 0, 0, 0, 0, 0, 0, 0, 0, 0, 0, 0, 0, 0, 0, 0, 0, 0, 0, 0,\n",
       "       0, 0, 0, 0, 0, 0, 0, 0, 0, 0, 0, 0, 0, 0, 0, 0, 0, 0, 0, 0, 0, 0,\n",
       "       0, 0, 0, 0, 0, 0, 0, 0, 0, 0, 0, 0, 0, 0, 0, 1, 1, 1, 1, 1, 1, 1,\n",
       "       1, 1, 1, 1, 1, 1, 1, 1, 1, 1, 1, 1, 1, 1, 1, 1, 1, 1, 1, 1, 1, 1,\n",
       "       1, 1, 1, 1, 1, 1, 1, 1, 1, 1, 1, 1, 1, 1, 1, 1, 1, 1, 1, 1, 1, 1,\n",
       "       1, 1, 1, 1, 1, 1, 1, 1, 1, 1, 1, 1, 1, 1, 1, 1, 1, 1, 1, 1, 1, 1,\n",
       "       1, 1, 1, 1, 1, 1, 1, 1, 1, 1, 1, 1, 1, 1, 1, 1, 1, 1, 1, 1, 1, 1,\n",
       "       1, 1, 1, 1, 1, 1, 1, 1, 1, 1, 1, 1, 1, 1, 1, 1, 1, 1, 1, 1, 1, 1,\n",
       "       1, 1, 1, 1, 1, 1, 1, 1, 1, 1, 1, 1, 1, 1, 1, 1, 1, 1, 1, 1, 1, 1,\n",
       "       1, 1, 1, 1, 1, 1, 1, 1, 1, 1, 1, 1, 1, 1, 1, 1, 1, 1, 1, 1, 1, 1,\n",
       "       1, 1, 1, 1, 1, 1, 1, 1])"
      ]
     },
     "execution_count": 18,
     "metadata": {},
     "output_type": "execute_result"
    }
   ],
   "source": [
    "yy"
   ]
  },
  {
   "cell_type": "code",
   "execution_count": 19,
   "metadata": {},
   "outputs": [
    {
     "name": "stdout",
     "output_type": "stream",
     "text": [
      "338\n"
     ]
    }
   ],
   "source": [
    "print(len(X))"
   ]
  },
  {
   "cell_type": "code",
   "execution_count": 20,
   "metadata": {},
   "outputs": [
    {
     "data": {
      "text/plain": [
       "(338,)"
      ]
     },
     "execution_count": 20,
     "metadata": {},
     "output_type": "execute_result"
    }
   ],
   "source": [
    "yy.shape"
   ]
  },
  {
   "cell_type": "code",
   "execution_count": 28,
   "metadata": {},
   "outputs": [
    {
     "data": {
      "text/plain": [
       "\"\\nXC=X\\nX1=X.reshape(len(X)*4097,order='F')\\nX2=X1.reshape(4097,len(X))\\n\\nX2=normalize(X2,axis=1)\\n\\nX3=np.reshape(X2,4097*len(X),order='F')\\nX4=X3.reshape(len(y),4097,1)\\nX=X4\\n\\n#def normalise_data(data_set):\\n#    arry=[]\\n#    for i in data_set:\\n#        arry.append(normalize(i,axis=0))\\n#    return np.array(arry)\\n\""
      ]
     },
     "execution_count": 28,
     "metadata": {},
     "output_type": "execute_result"
    }
   ],
   "source": [
    "# Apply Z-score normalisation\n",
    "# axis=0 is column wise, axis=1 is row wise\n",
    "'''\n",
    "XC=X\n",
    "X1=X.reshape(len(X)*4097,order='F')\n",
    "X2=X1.reshape(4097,len(X))\n",
    "\n",
    "X2=normalize(X2,axis=1)\n",
    "\n",
    "X3=np.reshape(X2,4097*len(X),order='F')\n",
    "X4=X3.reshape(len(y),4097,1)\n",
    "X=X4\n",
    "\n",
    "#def normalise_data(data_set):\n",
    "#    arry=[]\n",
    "#    for i in data_set:\n",
    "#        arry.append(normalize(i,axis=0))\n",
    "#    return np.array(arry)\n",
    "'''"
   ]
  },
  {
   "cell_type": "code",
   "execution_count": 21,
   "metadata": {},
   "outputs": [
    {
     "data": {
      "text/plain": [
       "(338, 4097, 1)"
      ]
     },
     "execution_count": 21,
     "metadata": {},
     "output_type": "execute_result"
    }
   ],
   "source": [
    "#X=normalise_data(X)\n",
    "X.shape"
   ]
  },
  {
   "cell_type": "code",
   "execution_count": 22,
   "metadata": {
    "collapsed": true
   },
   "outputs": [],
   "source": [
    "def plot_eeg_signal(sig,lab,cnt):\n",
    "    flag=True\n",
    "    \n",
    "    i=0\n",
    "    for X,y in zip(sig,lab):\n",
    "        if i<cnt and y==0:\n",
    "            plt.figure(i,figsize=(30,5))\n",
    "            plt.plot(X,'b')\n",
    "            plt.title('Non Seizure EEG Signal')\n",
    "            i=i+1\n",
    "        if i==cnt:\n",
    "            break\n",
    "   \n",
    "    j=i\n",
    "    i=0\n",
    "    for X,y in zip(sig,lab):\n",
    "        if i<cnt and y==1:\n",
    "            plt.figure(i+j,figsize=(30,5))\n",
    "            plt.plot(X,'r')\n",
    "            plt.title('Seizure EEG Signal')\n",
    "            i=i+1\n",
    "        if i==cnt:\n",
    "            break\n",
    "    "
   ]
  },
  {
   "cell_type": "code",
   "execution_count": 23,
   "metadata": {
    "collapsed": true,
    "scrolled": false
   },
   "outputs": [],
   "source": [
    "#plot_eeg_signal(X,y,5)"
   ]
  },
  {
   "cell_type": "code",
   "execution_count": 24,
   "metadata": {
    "collapsed": true
   },
   "outputs": [],
   "source": [
    "#y = tf.keras.utils.to_categorical(y, num_classes=2)"
   ]
  },
  {
   "cell_type": "code",
   "execution_count": 25,
   "metadata": {
    "collapsed": true
   },
   "outputs": [],
   "source": [
    "#y.shape"
   ]
  },
  {
   "cell_type": "code",
   "execution_count": 24,
   "metadata": {
    "collapsed": true
   },
   "outputs": [],
   "source": [
    "Xx_train, Xx_test, yy_train, yy_test = train_test_split(X, yy, test_size=0.20, random_state=42)"
   ]
  },
  {
   "cell_type": "code",
   "execution_count": 25,
   "metadata": {},
   "outputs": [
    {
     "data": {
      "text/plain": [
       "(270, 4097, 1)"
      ]
     },
     "execution_count": 25,
     "metadata": {},
     "output_type": "execute_result"
    }
   ],
   "source": [
    "Xx_train.shape"
   ]
  },
  {
   "cell_type": "code",
   "execution_count": 26,
   "metadata": {},
   "outputs": [
    {
     "data": {
      "text/plain": [
       "(270,)"
      ]
     },
     "execution_count": 26,
     "metadata": {},
     "output_type": "execute_result"
    }
   ],
   "source": [
    "yy_train.shape"
   ]
  },
  {
   "cell_type": "code",
   "execution_count": 27,
   "metadata": {},
   "outputs": [
    {
     "data": {
      "text/plain": [
       "(68, 4097, 1)"
      ]
     },
     "execution_count": 27,
     "metadata": {},
     "output_type": "execute_result"
    }
   ],
   "source": [
    "Xx_test.shape"
   ]
  },
  {
   "cell_type": "code",
   "execution_count": 28,
   "metadata": {},
   "outputs": [
    {
     "data": {
      "text/plain": [
       "(68,)"
      ]
     },
     "execution_count": 28,
     "metadata": {},
     "output_type": "execute_result"
    }
   ],
   "source": [
    "yy_test.shape"
   ]
  },
  {
   "cell_type": "code",
   "execution_count": 29,
   "metadata": {
    "collapsed": true
   },
   "outputs": [],
   "source": [
    "# Initialising the CNN\n",
    "cnn = tf.keras.Sequential()\n",
    "\n",
    "# First Convolution Layer\n",
    "cnn.add(layers.Conv1D(4, 6, input_shape = (4097, 1), activation='relu'))\n",
    "#cnn.add(layers.LeakyReLU(alpha=0.05))  \n",
    "cnn.add(layers.BatchNormalization())\n",
    "cnn.add(layers.MaxPooling1D(pool_size = 2, strides = 2))\n",
    "#cnn.add(Dropout(0.25))\n",
    "\n",
    "# Adding a second convolutional layer\n",
    "cnn.add(layers.Conv1D(4, 5,activation='relu'))  #number of output filters, kernel size\n",
    "#cnn.add(layers.LeakyReLU(alpha=0.05)) \n",
    "cnn.add(layers.MaxPooling1D(pool_size = 2, strides = 2))\n",
    "#cnn.add(Dropout(0.25))\n",
    "\n",
    "# Adding a third convolutional layer\n",
    "cnn.add(layers.Conv1D(10, 4, activation='relu' ))\n",
    "#cnn.add(layers.LeakyReLU(alpha=0.05)) \n",
    "cnn.add(layers.MaxPooling1D(pool_size = 2, strides = 2))\n",
    "#cnn.add(Dropout(0.4))\n",
    "\n",
    "# Adding a fourth convolutional layer\n",
    "cnn.add(layers.Conv1D(10, 4, activation='relu' ))\n",
    "#cnn.add(layers.LeakyReLU(alpha=0.05)) \n",
    "cnn.add(layers.MaxPooling1D(pool_size = 2, strides = 2))\n",
    "#cnn.add(Dropout(0.4))\n",
    "\n",
    "# Adding a fifth convolutional layer\n",
    "cnn.add(layers.Conv1D(15, 4, activation='relu' ))\n",
    "#cnn.add(layers.LeakyReLU(alpha=0.05)) \n",
    "cnn.add(layers.MaxPooling1D(pool_size = 2, strides = 2))\n",
    "#cnn.add(Dropout(0.4))\n",
    "\n",
    "# Step 3 - Flattening\n",
    "cnn.add(layers.Flatten())\n",
    "\n",
    "# Step 4 - Full connection\n",
    "cnn.add(layers.Dense(units = 50, activation='relu'))\n",
    "#cnn.add(layers.LeakyReLU(alpha=0.05)) \n",
    "cnn.add(layers.Dropout(0.1))\n",
    "cnn.add(layers.Dense(units = 20, activation='relu'))\n",
    "#cnn.add(layers.LeakyReLU(alpha=0.05))\n",
    "cnn.add(layers.Dense(units = 2, activation = 'softmax'))\n",
    "\n",
    "\n",
    "# Compiling the CNN\n",
    "cnn.compile(optimizer = tf.keras.optimizers.SGD(lr=0.01,momentum=0.3, decay=0.01), loss = 'sparse_categorical_crossentropy', metrics = ['accuracy'])"
   ]
  },
  {
   "cell_type": "code",
   "execution_count": 30,
   "metadata": {},
   "outputs": [
    {
     "name": "stdout",
     "output_type": "stream",
     "text": [
      "Model: \"sequential\"\n",
      "_________________________________________________________________\n",
      "Layer (type)                 Output Shape              Param #   \n",
      "=================================================================\n",
      "conv1d (Conv1D)              (None, 4092, 4)           28        \n",
      "_________________________________________________________________\n",
      "batch_normalization (BatchNo (None, 4092, 4)           16        \n",
      "_________________________________________________________________\n",
      "max_pooling1d (MaxPooling1D) (None, 2046, 4)           0         \n",
      "_________________________________________________________________\n",
      "conv1d_1 (Conv1D)            (None, 2042, 4)           84        \n",
      "_________________________________________________________________\n",
      "max_pooling1d_1 (MaxPooling1 (None, 1021, 4)           0         \n",
      "_________________________________________________________________\n",
      "conv1d_2 (Conv1D)            (None, 1018, 10)          170       \n",
      "_________________________________________________________________\n",
      "max_pooling1d_2 (MaxPooling1 (None, 509, 10)           0         \n",
      "_________________________________________________________________\n",
      "conv1d_3 (Conv1D)            (None, 506, 10)           410       \n",
      "_________________________________________________________________\n",
      "max_pooling1d_3 (MaxPooling1 (None, 253, 10)           0         \n",
      "_________________________________________________________________\n",
      "conv1d_4 (Conv1D)            (None, 250, 15)           615       \n",
      "_________________________________________________________________\n",
      "max_pooling1d_4 (MaxPooling1 (None, 125, 15)           0         \n",
      "_________________________________________________________________\n",
      "flatten (Flatten)            (None, 1875)              0         \n",
      "_________________________________________________________________\n",
      "dense (Dense)                (None, 50)                93800     \n",
      "_________________________________________________________________\n",
      "dropout (Dropout)            (None, 50)                0         \n",
      "_________________________________________________________________\n",
      "dense_1 (Dense)              (None, 20)                1020      \n",
      "_________________________________________________________________\n",
      "dense_2 (Dense)              (None, 2)                 42        \n",
      "=================================================================\n",
      "Total params: 96,185\n",
      "Trainable params: 96,177\n",
      "Non-trainable params: 8\n",
      "_________________________________________________________________\n"
     ]
    }
   ],
   "source": [
    "cnn.summary()"
   ]
  },
  {
   "cell_type": "code",
   "execution_count": 31,
   "metadata": {
    "scrolled": true
   },
   "outputs": [
    {
     "name": "stderr",
     "output_type": "stream",
     "text": [
      "WARNING: Logging before flag parsing goes to stderr.\n",
      "W0620 10:59:48.312980 140556604565248 deprecation.py:323] From /home/ad930/anaconda3/lib/python3.5/site-packages/tensorflow/python/ops/math_grad.py:1250: add_dispatch_support.<locals>.wrapper (from tensorflow.python.ops.array_ops) is deprecated and will be removed in a future version.\n",
      "Instructions for updating:\n",
      "Use tf.where in 2.0, which has the same broadcast rule as np.where\n"
     ]
    },
    {
     "name": "stdout",
     "output_type": "stream",
     "text": [
      "Train on 270 samples, validate on 68 samples\n",
      "Epoch 1/100\n",
      "270/270 [==============================] - 3s 11ms/sample - loss: 0.6856 - accuracy: 0.5333 - val_loss: 0.6782 - val_accuracy: 0.6176\n",
      "Epoch 2/100\n",
      "270/270 [==============================] - 1s 2ms/sample - loss: 0.6453 - accuracy: 0.6185 - val_loss: 0.6483 - val_accuracy: 0.6912\n",
      "Epoch 3/100\n",
      "270/270 [==============================] - 1s 2ms/sample - loss: 0.6067 - accuracy: 0.6667 - val_loss: 0.6546 - val_accuracy: 0.6471\n",
      "Epoch 4/100\n",
      "270/270 [==============================] - 1s 2ms/sample - loss: 0.5715 - accuracy: 0.6963 - val_loss: 0.6561 - val_accuracy: 0.6471\n",
      "Epoch 5/100\n",
      "270/270 [==============================] - 1s 2ms/sample - loss: 0.5277 - accuracy: 0.7519 - val_loss: 0.6280 - val_accuracy: 0.6765\n",
      "Epoch 6/100\n",
      "270/270 [==============================] - 1s 3ms/sample - loss: 0.4949 - accuracy: 0.7741 - val_loss: 0.6355 - val_accuracy: 0.6029\n",
      "Epoch 7/100\n",
      "270/270 [==============================] - 1s 3ms/sample - loss: 0.4895 - accuracy: 0.7667 - val_loss: 0.6363 - val_accuracy: 0.6618\n",
      "Epoch 8/100\n",
      "270/270 [==============================] - 1s 3ms/sample - loss: 0.4409 - accuracy: 0.7852 - val_loss: 0.6639 - val_accuracy: 0.6471\n",
      "Epoch 9/100\n",
      "270/270 [==============================] - 1s 3ms/sample - loss: 0.4032 - accuracy: 0.8519 - val_loss: 0.7914 - val_accuracy: 0.5882\n",
      "Epoch 10/100\n",
      "270/270 [==============================] - 1s 3ms/sample - loss: 0.3997 - accuracy: 0.8556 - val_loss: 0.7279 - val_accuracy: 0.6471\n",
      "Epoch 11/100\n",
      "270/270 [==============================] - 1s 3ms/sample - loss: 0.3715 - accuracy: 0.8481 - val_loss: 0.7509 - val_accuracy: 0.6471\n",
      "Epoch 12/100\n",
      "270/270 [==============================] - 1s 3ms/sample - loss: 0.3337 - accuracy: 0.8444 - val_loss: 0.7233 - val_accuracy: 0.6324\n",
      "Epoch 13/100\n",
      "270/270 [==============================] - 1s 3ms/sample - loss: 0.2947 - accuracy: 0.8926 - val_loss: 0.9597 - val_accuracy: 0.5735\n",
      "Epoch 14/100\n",
      "270/270 [==============================] - 1s 2ms/sample - loss: 0.3105 - accuracy: 0.8778 - val_loss: 0.9801 - val_accuracy: 0.5735\n",
      "Epoch 15/100\n",
      "270/270 [==============================] - 1s 2ms/sample - loss: 0.2876 - accuracy: 0.8889 - val_loss: 0.8054 - val_accuracy: 0.6029\n",
      "Epoch 16/100\n",
      "270/270 [==============================] - 1s 2ms/sample - loss: 0.2903 - accuracy: 0.8852 - val_loss: 0.8684 - val_accuracy: 0.6029\n",
      "Epoch 17/100\n",
      "270/270 [==============================] - 1s 2ms/sample - loss: 0.2317 - accuracy: 0.9333 - val_loss: 0.8498 - val_accuracy: 0.6176\n",
      "Epoch 18/100\n",
      "270/270 [==============================] - 1s 2ms/sample - loss: 0.2381 - accuracy: 0.9185 - val_loss: 0.9170 - val_accuracy: 0.5882\n",
      "Epoch 19/100\n",
      "270/270 [==============================] - 1s 3ms/sample - loss: 0.1997 - accuracy: 0.9444 - val_loss: 1.0538 - val_accuracy: 0.5441\n",
      "Epoch 20/100\n",
      "270/270 [==============================] - 1s 3ms/sample - loss: 0.1897 - accuracy: 0.9481 - val_loss: 0.9544 - val_accuracy: 0.5735\n",
      "Epoch 21/100\n",
      "270/270 [==============================] - 1s 3ms/sample - loss: 0.1621 - accuracy: 0.9556 - val_loss: 1.0805 - val_accuracy: 0.5882\n",
      "Epoch 22/100\n",
      "270/270 [==============================] - 1s 3ms/sample - loss: 0.1566 - accuracy: 0.9556 - val_loss: 1.0951 - val_accuracy: 0.5735\n",
      "Epoch 23/100\n",
      "270/270 [==============================] - 1s 3ms/sample - loss: 0.1522 - accuracy: 0.9519 - val_loss: 1.0842 - val_accuracy: 0.5882\n",
      "Epoch 24/100\n",
      "270/270 [==============================] - 1s 3ms/sample - loss: 0.1430 - accuracy: 0.9556 - val_loss: 1.0954 - val_accuracy: 0.5882\n",
      "Epoch 25/100\n",
      "270/270 [==============================] - 1s 3ms/sample - loss: 0.1170 - accuracy: 0.9667 - val_loss: 1.1413 - val_accuracy: 0.6029\n",
      "Epoch 26/100\n",
      "270/270 [==============================] - 1s 2ms/sample - loss: 0.1195 - accuracy: 0.9741 - val_loss: 1.2106 - val_accuracy: 0.5882\n",
      "Epoch 27/100\n",
      "270/270 [==============================] - 1s 2ms/sample - loss: 0.1374 - accuracy: 0.9593 - val_loss: 1.1851 - val_accuracy: 0.5882\n",
      "Epoch 28/100\n",
      "270/270 [==============================] - 1s 2ms/sample - loss: 0.0967 - accuracy: 0.9852 - val_loss: 1.2290 - val_accuracy: 0.5882\n",
      "Epoch 29/100\n",
      "270/270 [==============================] - 1s 2ms/sample - loss: 0.0928 - accuracy: 0.9852 - val_loss: 1.2980 - val_accuracy: 0.5735\n",
      "Epoch 30/100\n",
      "270/270 [==============================] - 1s 2ms/sample - loss: 0.0836 - accuracy: 0.9889 - val_loss: 1.3411 - val_accuracy: 0.5882\n",
      "Epoch 31/100\n",
      "270/270 [==============================] - 1s 2ms/sample - loss: 0.0800 - accuracy: 0.9741 - val_loss: 1.3694 - val_accuracy: 0.5735\n",
      "Epoch 32/100\n",
      "270/270 [==============================] - 1s 2ms/sample - loss: 0.0896 - accuracy: 0.9704 - val_loss: 1.3518 - val_accuracy: 0.5735\n",
      "Epoch 33/100\n",
      "270/270 [==============================] - 1s 2ms/sample - loss: 0.0737 - accuracy: 0.9852 - val_loss: 1.3889 - val_accuracy: 0.5882\n",
      "Epoch 34/100\n",
      "270/270 [==============================] - 1s 2ms/sample - loss: 0.0566 - accuracy: 0.9963 - val_loss: 1.4732 - val_accuracy: 0.5882\n",
      "Epoch 35/100\n",
      "270/270 [==============================] - 1s 2ms/sample - loss: 0.0599 - accuracy: 0.9889 - val_loss: 1.5203 - val_accuracy: 0.5882\n",
      "Epoch 36/100\n",
      "270/270 [==============================] - 1s 3ms/sample - loss: 0.0695 - accuracy: 0.9815 - val_loss: 1.5076 - val_accuracy: 0.5735\n",
      "Epoch 37/100\n",
      "270/270 [==============================] - 1s 3ms/sample - loss: 0.0569 - accuracy: 0.9889 - val_loss: 1.5578 - val_accuracy: 0.5588\n",
      "Epoch 38/100\n",
      "270/270 [==============================] - 1s 3ms/sample - loss: 0.0595 - accuracy: 0.9889 - val_loss: 1.5130 - val_accuracy: 0.5735\n",
      "Epoch 39/100\n",
      "270/270 [==============================] - 1s 3ms/sample - loss: 0.0538 - accuracy: 0.9889 - val_loss: 1.5634 - val_accuracy: 0.6029\n",
      "Epoch 40/100\n",
      "270/270 [==============================] - 1s 3ms/sample - loss: 0.0527 - accuracy: 0.9889 - val_loss: 1.6107 - val_accuracy: 0.5882\n",
      "Epoch 41/100\n",
      "270/270 [==============================] - 1s 3ms/sample - loss: 0.0730 - accuracy: 0.9815 - val_loss: 1.5845 - val_accuracy: 0.5882\n",
      "Epoch 42/100\n",
      "270/270 [==============================] - 1s 2ms/sample - loss: 0.0462 - accuracy: 0.9963 - val_loss: 1.6596 - val_accuracy: 0.5882\n",
      "Epoch 43/100\n",
      "270/270 [==============================] - 1s 2ms/sample - loss: 0.0552 - accuracy: 0.9889 - val_loss: 1.6525 - val_accuracy: 0.5882\n",
      "Epoch 44/100\n",
      "270/270 [==============================] - 1s 2ms/sample - loss: 0.0567 - accuracy: 0.9815 - val_loss: 1.6275 - val_accuracy: 0.5882\n",
      "Epoch 45/100\n",
      "270/270 [==============================] - 1s 2ms/sample - loss: 0.0357 - accuracy: 0.9963 - val_loss: 1.7300 - val_accuracy: 0.5882\n",
      "Epoch 46/100\n",
      "270/270 [==============================] - 1s 2ms/sample - loss: 0.0459 - accuracy: 0.9963 - val_loss: 1.7492 - val_accuracy: 0.6029\n",
      "Epoch 47/100\n",
      "270/270 [==============================] - 1s 2ms/sample - loss: 0.0627 - accuracy: 0.9778 - val_loss: 1.7197 - val_accuracy: 0.5441\n",
      "Epoch 48/100\n",
      "270/270 [==============================] - 1s 2ms/sample - loss: 0.0655 - accuracy: 0.9778 - val_loss: 1.6495 - val_accuracy: 0.5882\n",
      "Epoch 49/100\n",
      "270/270 [==============================] - 1s 3ms/sample - loss: 0.0447 - accuracy: 0.9852 - val_loss: 1.6924 - val_accuracy: 0.5882\n",
      "Epoch 50/100\n",
      "270/270 [==============================] - 1s 3ms/sample - loss: 0.0506 - accuracy: 0.9926 - val_loss: 1.7034 - val_accuracy: 0.5882\n",
      "Epoch 51/100\n",
      "270/270 [==============================] - 1s 3ms/sample - loss: 0.0505 - accuracy: 0.9815 - val_loss: 1.7058 - val_accuracy: 0.5735\n",
      "Epoch 52/100\n",
      "270/270 [==============================] - 1s 2ms/sample - loss: 0.0332 - accuracy: 1.0000 - val_loss: 1.7956 - val_accuracy: 0.5735\n",
      "Epoch 53/100\n",
      "270/270 [==============================] - 1s 2ms/sample - loss: 0.0430 - accuracy: 0.9926 - val_loss: 1.8249 - val_accuracy: 0.5882\n",
      "Epoch 54/100\n",
      "270/270 [==============================] - 1s 3ms/sample - loss: 0.0419 - accuracy: 0.9852 - val_loss: 1.8224 - val_accuracy: 0.6029\n",
      "Epoch 55/100\n",
      "270/270 [==============================] - 1s 3ms/sample - loss: 0.0394 - accuracy: 0.9926 - val_loss: 1.8590 - val_accuracy: 0.5735\n",
      "Epoch 56/100\n",
      "270/270 [==============================] - 1s 2ms/sample - loss: 0.0480 - accuracy: 0.9889 - val_loss: 1.8806 - val_accuracy: 0.5588\n",
      "Epoch 57/100\n",
      "270/270 [==============================] - 1s 2ms/sample - loss: 0.0476 - accuracy: 0.9889 - val_loss: 1.8224 - val_accuracy: 0.6029\n",
      "Epoch 58/100\n",
      "270/270 [==============================] - 1s 3ms/sample - loss: 0.0315 - accuracy: 0.9963 - val_loss: 1.8893 - val_accuracy: 0.6029\n",
      "Epoch 59/100\n",
      "270/270 [==============================] - 1s 3ms/sample - loss: 0.0257 - accuracy: 1.0000 - val_loss: 1.9143 - val_accuracy: 0.6029\n",
      "Epoch 60/100\n",
      "270/270 [==============================] - 1s 2ms/sample - loss: 0.0294 - accuracy: 0.9963 - val_loss: 1.9268 - val_accuracy: 0.6029\n",
      "Epoch 61/100\n",
      "270/270 [==============================] - 1s 2ms/sample - loss: 0.0249 - accuracy: 0.9963 - val_loss: 2.0057 - val_accuracy: 0.5735\n",
      "Epoch 62/100\n",
      "270/270 [==============================] - 1s 2ms/sample - loss: 0.0297 - accuracy: 0.9889 - val_loss: 1.9577 - val_accuracy: 0.5882\n",
      "Epoch 63/100\n",
      "270/270 [==============================] - 1s 2ms/sample - loss: 0.0253 - accuracy: 0.9963 - val_loss: 1.9665 - val_accuracy: 0.5882\n",
      "Epoch 64/100\n",
      "270/270 [==============================] - 1s 3ms/sample - loss: 0.0357 - accuracy: 0.9926 - val_loss: 1.9457 - val_accuracy: 0.6029\n",
      "Epoch 65/100\n",
      "270/270 [==============================] - 1s 3ms/sample - loss: 0.0267 - accuracy: 0.9926 - val_loss: 1.9601 - val_accuracy: 0.5882\n",
      "Epoch 66/100\n",
      "270/270 [==============================] - 1s 3ms/sample - loss: 0.0400 - accuracy: 0.9889 - val_loss: 1.9708 - val_accuracy: 0.6029\n",
      "Epoch 67/100\n",
      "270/270 [==============================] - 1s 3ms/sample - loss: 0.0355 - accuracy: 0.9852 - val_loss: 1.9537 - val_accuracy: 0.5882\n",
      "Epoch 68/100\n",
      "270/270 [==============================] - 1s 3ms/sample - loss: 0.0329 - accuracy: 0.9889 - val_loss: 1.9604 - val_accuracy: 0.5882\n",
      "Epoch 69/100\n",
      "270/270 [==============================] - 1s 3ms/sample - loss: 0.0200 - accuracy: 1.0000 - val_loss: 1.9885 - val_accuracy: 0.6176\n",
      "Epoch 70/100\n",
      "270/270 [==============================] - 1s 3ms/sample - loss: 0.0368 - accuracy: 0.9926 - val_loss: 1.9604 - val_accuracy: 0.5882\n",
      "Epoch 71/100\n",
      "270/270 [==============================] - 1s 2ms/sample - loss: 0.0311 - accuracy: 0.9889 - val_loss: 1.9645 - val_accuracy: 0.5882\n",
      "Epoch 72/100\n",
      "270/270 [==============================] - 1s 2ms/sample - loss: 0.0325 - accuracy: 0.9926 - val_loss: 1.9695 - val_accuracy: 0.5882\n",
      "Epoch 73/100\n",
      "270/270 [==============================] - 1s 2ms/sample - loss: 0.0256 - accuracy: 0.9963 - val_loss: 2.0090 - val_accuracy: 0.5882\n",
      "Epoch 74/100\n",
      "270/270 [==============================] - 1s 2ms/sample - loss: 0.0278 - accuracy: 0.9963 - val_loss: 2.0078 - val_accuracy: 0.5882\n",
      "Epoch 75/100\n",
      "270/270 [==============================] - 1s 2ms/sample - loss: 0.0274 - accuracy: 0.9963 - val_loss: 2.0226 - val_accuracy: 0.5882\n",
      "Epoch 76/100\n",
      "270/270 [==============================] - 1s 2ms/sample - loss: 0.0217 - accuracy: 1.0000 - val_loss: 2.0088 - val_accuracy: 0.5882\n",
      "Epoch 77/100\n",
      "270/270 [==============================] - 1s 2ms/sample - loss: 0.0342 - accuracy: 0.9889 - val_loss: 2.0712 - val_accuracy: 0.5882\n",
      "Epoch 78/100\n",
      "270/270 [==============================] - 1s 2ms/sample - loss: 0.0280 - accuracy: 0.9926 - val_loss: 2.0603 - val_accuracy: 0.5882\n",
      "Epoch 79/100\n",
      "270/270 [==============================] - 1s 3ms/sample - loss: 0.0316 - accuracy: 0.9889 - val_loss: 2.0258 - val_accuracy: 0.5882\n",
      "Epoch 80/100\n",
      "270/270 [==============================] - 1s 3ms/sample - loss: 0.0147 - accuracy: 1.0000 - val_loss: 2.0583 - val_accuracy: 0.5882\n",
      "Epoch 81/100\n",
      "270/270 [==============================] - 1s 3ms/sample - loss: 0.0246 - accuracy: 0.9963 - val_loss: 2.0890 - val_accuracy: 0.6029\n",
      "Epoch 82/100\n",
      "270/270 [==============================] - 1s 3ms/sample - loss: 0.0264 - accuracy: 0.9889 - val_loss: 2.1333 - val_accuracy: 0.6176\n",
      "Epoch 83/100\n",
      "270/270 [==============================] - 1s 3ms/sample - loss: 0.0245 - accuracy: 0.9963 - val_loss: 2.0923 - val_accuracy: 0.6029\n",
      "Epoch 84/100\n",
      "270/270 [==============================] - 1s 3ms/sample - loss: 0.0141 - accuracy: 1.0000 - val_loss: 2.1248 - val_accuracy: 0.6029\n",
      "Epoch 85/100\n",
      "270/270 [==============================] - 1s 3ms/sample - loss: 0.0157 - accuracy: 1.0000 - val_loss: 2.1365 - val_accuracy: 0.5882\n",
      "Epoch 86/100\n",
      "270/270 [==============================] - 1s 2ms/sample - loss: 0.0134 - accuracy: 1.0000 - val_loss: 2.1571 - val_accuracy: 0.5882\n",
      "Epoch 87/100\n",
      "270/270 [==============================] - 1s 2ms/sample - loss: 0.0167 - accuracy: 1.0000 - val_loss: 2.1532 - val_accuracy: 0.5882\n",
      "Epoch 88/100\n",
      "270/270 [==============================] - 1s 2ms/sample - loss: 0.0394 - accuracy: 0.9926 - val_loss: 2.1380 - val_accuracy: 0.5882\n",
      "Epoch 89/100\n",
      "270/270 [==============================] - 1s 3ms/sample - loss: 0.0211 - accuracy: 0.9963 - val_loss: 2.1774 - val_accuracy: 0.5735\n",
      "Epoch 90/100\n",
      "270/270 [==============================] - 1s 2ms/sample - loss: 0.0133 - accuracy: 1.0000 - val_loss: 2.1715 - val_accuracy: 0.6029\n",
      "Epoch 91/100\n",
      "270/270 [==============================] - 1s 2ms/sample - loss: 0.0182 - accuracy: 1.0000 - val_loss: 2.1951 - val_accuracy: 0.6029\n",
      "Epoch 92/100\n",
      "270/270 [==============================] - 1s 2ms/sample - loss: 0.0224 - accuracy: 0.9926 - val_loss: 2.1975 - val_accuracy: 0.6029\n",
      "Epoch 93/100\n",
      "270/270 [==============================] - 1s 2ms/sample - loss: 0.0155 - accuracy: 1.0000 - val_loss: 2.2384 - val_accuracy: 0.6029\n",
      "Epoch 94/100\n",
      "270/270 [==============================] - 1s 2ms/sample - loss: 0.0175 - accuracy: 1.0000 - val_loss: 2.2293 - val_accuracy: 0.6029\n",
      "Epoch 95/100\n",
      "270/270 [==============================] - 1s 2ms/sample - loss: 0.0222 - accuracy: 0.9963 - val_loss: 2.2563 - val_accuracy: 0.6029\n",
      "Epoch 96/100\n",
      "270/270 [==============================] - 1s 2ms/sample - loss: 0.0191 - accuracy: 0.9963 - val_loss: 2.2588 - val_accuracy: 0.6029\n",
      "Epoch 97/100\n",
      "270/270 [==============================] - 1s 2ms/sample - loss: 0.0351 - accuracy: 0.9889 - val_loss: 2.2054 - val_accuracy: 0.5882\n",
      "Epoch 98/100\n",
      "270/270 [==============================] - 1s 2ms/sample - loss: 0.0165 - accuracy: 1.0000 - val_loss: 2.2333 - val_accuracy: 0.5882\n",
      "Epoch 99/100\n",
      "270/270 [==============================] - 1s 2ms/sample - loss: 0.0272 - accuracy: 0.9926 - val_loss: 2.2464 - val_accuracy: 0.5882\n",
      "Epoch 100/100\n",
      "270/270 [==============================] - 1s 2ms/sample - loss: 0.0211 - accuracy: 0.9926 - val_loss: 2.2096 - val_accuracy: 0.5882\n"
     ]
    }
   ],
   "source": [
    "model=cnn.fit(x=Xx_train, y=yy_train, batch_size=3, epochs=100, verbose=1,validation_data=(Xx_test,yy_test))"
   ]
  },
  {
   "cell_type": "code",
   "execution_count": 32,
   "metadata": {
    "collapsed": true
   },
   "outputs": [],
   "source": [
    "def plot_acc_valgraph(model,num):\n",
    "    plt.figure(num)\n",
    "    plt.plot(model.history['accuracy'])\n",
    "    plt.plot(model.history['val_accuracy'])\n",
    "    plt.legend(['Training','Validation'])\n",
    "    plt.title('Accuracy')\n",
    "    plt.xlabel('Epochs')"
   ]
  },
  {
   "cell_type": "code",
   "execution_count": 33,
   "metadata": {},
   "outputs": [
    {
     "data": {
      "image/png": "[encoded data removed]",
      "text/plain": [
       "<Figure size 432x288 with 1 Axes>"
      ]
     },
     "metadata": {
      "needs_background": "light"
     },
     "output_type": "display_data"
    }
   ],
   "source": [
    "plot_acc_valgraph(model,1)"
   ]
  },
  {
   "cell_type": "code",
   "execution_count": 34,
   "metadata": {},
   "outputs": [
    {
     "name": "stdout",
     "output_type": "stream",
     "text": [
      "Test loss: 220.96357205334832\n",
      "Test accuracy: 58.82353186607361\n"
     ]
    }
   ],
   "source": [
    "# evaluate the model\n",
    "score = cnn.evaluate(Xx_test, yy_test, verbose=0)\n",
    "print('Test loss:', score[0]*100)\n",
    "print('Test accuracy:', score[1]*100)"
   ]
  },
  {
   "cell_type": "code",
   "execution_count": 35,
   "metadata": {},
   "outputs": [
    {
     "name": "stdout",
     "output_type": "stream",
     "text": [
      "68/68 [==============================] - 0s 3ms/sample\n"
     ]
    }
   ],
   "source": [
    "yy_pred=cnn.predict(x=Xx_test, verbose=1)"
   ]
  },
  {
   "cell_type": "code",
   "execution_count": 36,
   "metadata": {},
   "outputs": [
    {
     "data": {
      "text/plain": [
       "array([0, 1, 1, 0, 1, 1, 0, 1, 1, 0, 0, 1, 1, 0, 0, 0, 1, 0, 0, 0, 1, 1,\n",
       "       1, 0, 0, 0, 1, 0, 0, 0, 0, 0, 1, 0, 1, 0, 1, 1, 0, 0, 1, 1, 1, 1,\n",
       "       1, 0, 0, 0, 0, 1, 0, 0, 1, 1, 0, 1, 0, 1, 1, 1, 0, 0, 0, 1, 0, 0,\n",
       "       0, 0])"
      ]
     },
     "execution_count": 36,
     "metadata": {},
     "output_type": "execute_result"
    }
   ],
   "source": [
    "yy_test"
   ]
  },
  {
   "cell_type": "code",
   "execution_count": 37,
   "metadata": {},
   "outputs": [
    {
     "data": {
      "text/plain": [
       "array([[7.0342144e-06, 9.9999297e-01],\n",
       "       [9.7350061e-01, 2.6499359e-02],\n",
       "       [9.9801123e-01, 1.9887830e-03],\n",
       "       [9.2340237e-01, 7.6597594e-02],\n",
       "       [7.9523149e-04, 9.9920481e-01],\n",
       "       [8.7395507e-10, 1.0000000e+00],\n",
       "       [9.6374822e-01, 3.6251772e-02],\n",
       "       [6.2874467e-03, 9.9371248e-01],\n",
       "       [2.1945001e-01, 7.8054994e-01],\n",
       "       [8.0004770e-01, 1.9995232e-01],\n",
       "       [2.9369451e-03, 9.9706310e-01],\n",
       "       [8.1706202e-01, 1.8293796e-01],\n",
       "       [2.5091108e-04, 9.9974912e-01],\n",
       "       [2.4060801e-01, 7.5939202e-01],\n",
       "       [9.9869424e-01, 1.3057819e-03],\n",
       "       [1.2824635e-03, 9.9871755e-01],\n",
       "       [1.0841516e-03, 9.9891591e-01],\n",
       "       [7.0394933e-01, 2.9605064e-01],\n",
       "       [6.6276693e-01, 3.3723307e-01],\n",
       "       [3.1230059e-03, 9.9687696e-01],\n",
       "       [3.1669676e-02, 9.6833032e-01],\n",
       "       [9.9997699e-01, 2.2959735e-05],\n",
       "       [7.0589366e-03, 9.9294102e-01],\n",
       "       [9.9998772e-01, 1.2312326e-05],\n",
       "       [7.5829728e-03, 9.9241698e-01],\n",
       "       [9.9520159e-01, 4.7983765e-03],\n",
       "       [4.5031194e-02, 9.5496875e-01],\n",
       "       [8.4054995e-01, 1.5945005e-01],\n",
       "       [9.9541098e-01, 4.5890827e-03],\n",
       "       [2.1911918e-03, 9.9780887e-01],\n",
       "       [9.9135405e-01, 8.6459927e-03],\n",
       "       [9.8307850e-05, 9.9990165e-01],\n",
       "       [9.9056959e-01, 9.4303498e-03],\n",
       "       [1.0000000e+00, 1.3515938e-08],\n",
       "       [6.8796211e-01, 3.1203786e-01],\n",
       "       [9.9693537e-01, 3.0646406e-03],\n",
       "       [3.1435110e-02, 9.6856493e-01],\n",
       "       [9.9999344e-01, 6.5163858e-06],\n",
       "       [3.2290586e-03, 9.9677092e-01],\n",
       "       [6.4982423e-03, 9.9350172e-01],\n",
       "       [3.6788383e-01, 6.3211620e-01],\n",
       "       [1.9757824e-03, 9.9802423e-01],\n",
       "       [8.8119440e-02, 9.1188055e-01],\n",
       "       [9.9938250e-01, 6.1744981e-04],\n",
       "       [2.3369470e-05, 9.9997663e-01],\n",
       "       [8.9531720e-01, 1.0468279e-01],\n",
       "       [1.2449740e-04, 9.9987555e-01],\n",
       "       [9.9086916e-01, 9.1308691e-03],\n",
       "       [1.2564825e-01, 8.7435180e-01],\n",
       "       [5.9735116e-06, 9.9999404e-01],\n",
       "       [9.9995697e-01, 4.2992393e-05],\n",
       "       [9.9759644e-01, 2.4035079e-03],\n",
       "       [2.5010304e-04, 9.9974984e-01],\n",
       "       [5.0973165e-01, 4.9026832e-01],\n",
       "       [8.4249049e-01, 1.5750951e-01],\n",
       "       [8.5075271e-01, 1.4924732e-01],\n",
       "       [9.9890423e-01, 1.0957980e-03],\n",
       "       [9.9918324e-01, 8.1672292e-04],\n",
       "       [2.5763120e-05, 9.9997425e-01],\n",
       "       [9.9810946e-01, 1.8905551e-03],\n",
       "       [3.4884205e-01, 6.5115798e-01],\n",
       "       [4.6056837e-02, 9.5394319e-01],\n",
       "       [9.4933510e-01, 5.0664939e-02],\n",
       "       [6.7975655e-08, 9.9999988e-01],\n",
       "       [9.6823353e-01, 3.1766497e-02],\n",
       "       [1.0222077e-02, 9.8977786e-01],\n",
       "       [9.9789643e-01, 2.1035532e-03],\n",
       "       [1.4505155e-01, 8.5494846e-01]], dtype=float32)"
      ]
     },
     "execution_count": 37,
     "metadata": {},
     "output_type": "execute_result"
    }
   ],
   "source": [
    "yy_pred"
   ]
  },
  {
   "cell_type": "code",
   "execution_count": 38,
   "metadata": {
    "collapsed": true
   },
   "outputs": [],
   "source": [
    "yy_pred1 = np.argmax(yy_pred, axis=1)"
   ]
  },
  {
   "cell_type": "code",
   "execution_count": 39,
   "metadata": {},
   "outputs": [
    {
     "name": "stdout",
     "output_type": "stream",
     "text": [
      "58.82352941176471\n"
     ]
    }
   ],
   "source": [
    "accuracy = accuracy_score(yy_test, yy_pred1)\n",
    "print(accuracy*100)"
   ]
  },
  {
   "cell_type": "code",
   "execution_count": 40,
   "metadata": {
    "collapsed": true
   },
   "outputs": [],
   "source": [
    "def plot_confusion_matrix(y_true, y_pred, classes,\n",
    "                          title=None,\n",
    "                          cmap=plt.cm.Blues):\n",
    "    \"\"\"\n",
    "    This function prints and plots the confusion matrix.\n",
    "    Normalization can be applied by setting `normalize=True`.\n",
    "    \"\"\"\n",
    "    # Compute confusion matrix\n",
    "    cm = confusion_matrix(y_true, y_pred)\n",
    "    print(cm)\n",
    "\n",
    "    fig, ax = plt.subplots()\n",
    "    im = ax.imshow(cm, interpolation='nearest', cmap=cmap)\n",
    "    ax.figure.colorbar(im, ax=ax)\n",
    "    # We want to show all ticks...\n",
    "    ax.set(xticks=np.arange(cm.shape[1]),\n",
    "           yticks=np.arange(cm.shape[0]),\n",
    "           # ... and label them with the respective list entries\n",
    "           xticklabels=classes, yticklabels=classes,\n",
    "           title=title,\n",
    "           ylabel='True label',\n",
    "           xlabel='Predicted label')\n",
    "\n",
    "    # Rotate the tick labels and set their alignment.\n",
    "    plt.setp(ax.get_xticklabels(), rotation=45, ha=\"right\",\n",
    "             rotation_mode=\"anchor\")\n",
    "\n",
    "    # Loop over data dimensions and create text annotations.\n",
    "    # '.2f' if normalize else \n",
    "    fmt = 'd'\n",
    "    thresh = cm.max() / 2.\n",
    "    for i in range(cm.shape[0]):\n",
    "        for j in range(cm.shape[1]):\n",
    "            ax.text(j, i, format(cm[i, j], fmt),\n",
    "                    ha=\"center\", va=\"center\",\n",
    "                    color=\"white\" if cm[i, j] > thresh else \"black\")\n",
    "    fig.tight_layout()\n",
    "    return ax"
   ]
  },
  {
   "cell_type": "code",
   "execution_count": 43,
   "metadata": {},
   "outputs": [
    {
     "name": "stdout",
     "output_type": "stream",
     "text": [
      "[[22 16]\n",
      " [12 18]]\n"
     ]
    },
    {
     "data": {
      "image/png": "[encoded data removed]",
      "text/plain": [
       "<Figure size 432x288 with 2 Axes>"
      ]
     },
     "metadata": {
      "needs_background": "light"
     },
     "output_type": "display_data"
    }
   ],
   "source": [
    "confusion_mat= plot_confusion_matrix(yy_test, yy_pred1, classes=[0,1], title='Confusion matrix - Bonn Database')"
   ]
  },
  {
   "cell_type": "code",
   "execution_count": 44,
   "metadata": {},
   "outputs": [
    {
     "name": "stdout",
     "output_type": "stream",
     "text": [
      "                precision    recall  f1-score   support\n",
      "\n",
      "Non-Seizure(0)       0.65      0.58      0.61        38\n",
      "    Seizure(1)       0.53      0.60      0.56        30\n",
      "\n",
      "      accuracy                           0.59        68\n",
      "     macro avg       0.59      0.59      0.59        68\n",
      "  weighted avg       0.60      0.59      0.59        68\n",
      "\n"
     ]
    }
   ],
   "source": [
    "from sklearn.metrics import classification_report\n",
    "print(classification_report(yy_test,yy_pred1,target_names = ['Non-Seizure(0)', 'Seizure(1)']))"
   ]
  },
  {
   "cell_type": "code",
   "execution_count": 45,
   "metadata": {
    "collapsed": true
   },
   "outputs": [],
   "source": [
    "#from tensorflow.keras.models import load_model\n",
    "\n",
    "cnn.save('CNN_MODEL_chbmit_temp.h5')  # creates a HDF5 file 'my_model.h5'\n",
    "\n",
    "\n",
    "# returns a compiled model\n",
    "# identical to the previous one\n",
    "#model = load_model('my_model.h5')"
   ]
  },
  {
   "cell_type": "code",
   "execution_count": 46,
   "metadata": {},
   "outputs": [
    {
     "name": "stderr",
     "output_type": "stream",
     "text": [
      "W0620 11:04:01.877619 140556604565248 hdf5_format.py:171] No training configuration found in save file: the model was *not* compiled. Compile it manually.\n"
     ]
    }
   ],
   "source": [
    "# load generator\n",
    "from tensorflow.keras.models import load_model\n",
    "gen = load_model('./GAN_Generator_model2.h5')"
   ]
  },
  {
   "cell_type": "code",
   "execution_count": 47,
   "metadata": {
    "collapsed": true
   },
   "outputs": [],
   "source": [
    "# generate 100 synthetic seizure signals\n",
    "signal_gen = []\n",
    "for i in range(0,100):\n",
    "    noise = tf.random.normal([1, 100])\n",
    "    generated_signal = gen(noise, training=False)\n",
    "    generated_signal = generated_signal[:,:,0,:]\n",
    "    signal_gen.append(generated_signal[0])\n"
   ]
  },
  {
   "cell_type": "code",
   "execution_count": 48,
   "metadata": {
    "collapsed": true
   },
   "outputs": [],
   "source": [
    "signal_gen = np.array(signal_gen)"
   ]
  },
  {
   "cell_type": "code",
   "execution_count": 49,
   "metadata": {
    "collapsed": true
   },
   "outputs": [],
   "source": [
    "X = signal_gen\n",
    "XC=X\n",
    "X1=X.reshape(len(X)*4097,order='F')\n",
    "X2=X1.reshape(4097,len(X))\n",
    "\n",
    "X2=scaler.fit_transform(X2) #normalize(X2,axis=1)\n",
    "\n",
    "X3=np.reshape(X2,4097*len(X),order='F')\n",
    "X4=X3.reshape(len(X),4097,1)\n",
    "X=X4\n",
    "signal_gen = X"
   ]
  },
  {
   "cell_type": "code",
   "execution_count": 52,
   "metadata": {
    "collapsed": true
   },
   "outputs": [],
   "source": [
    "path='/home/ad930/datasetsv4/'\n",
    "dr='non_seizures'\n",
    "nfilenames=[]\n",
    "end='/*.csv'\n",
    "flag=0\n",
    "nfilenames=glob.glob(path + dr + end)\n",
    "\n",
    "def generate_chbmit_datasets(filenames):\n",
    "    oldFS=256\n",
    "    newFS=173.61\n",
    "    arry=[]   \n",
    "    counter=0\n",
    "    for files in filenames:\n",
    "        if counter==100:\n",
    "            break\n",
    "        df=pd.read_csv(files)\n",
    "        if '\\'F3-C3\\'' in df:\n",
    "            df = df[['\\'F3-C3\\'']]\n",
    "            if df.shape[0] == 6041:\n",
    "                newNumSamples = mp.ceil((df.shape[0] / oldFS) * newFS)\n",
    "                flag=1\n",
    "            if df.shape[0] == 6042:\n",
    "                newNumSamples = mp.floor((df.shape[0] / oldFS) * newFS)\n",
    "                flag=1\n",
    "            if flag==1:\n",
    "                newData = pd.DataFrame(resample(df, newNumSamples))\n",
    "                arry.append(np.array(newData,dtype=\"float32\"))\n",
    "            counter=counter+1\n",
    "     \n",
    "    return np.array(arry) "
   ]
  },
  {
   "cell_type": "code",
   "execution_count": 53,
   "metadata": {},
   "outputs": [
    {
     "data": {
      "text/plain": [
       "(100, 4097, 1)"
      ]
     },
     "execution_count": 53,
     "metadata": {},
     "output_type": "execute_result"
    }
   ],
   "source": [
    "chb_signals=generate_chbmit_datasets(nfilenames)\n",
    "chb_signals.shape"
   ]
  },
  {
   "cell_type": "code",
   "execution_count": 54,
   "metadata": {
    "collapsed": true
   },
   "outputs": [],
   "source": [
    "X = chb_signals\n",
    "XC=X\n",
    "X1=X.reshape(len(X)*4097,order='F')\n",
    "X2=X1.reshape(4097,len(X))\n",
    "\n",
    "X2=scaler.fit_transform(X2) #normalize(X2,axis=1)\n",
    "\n",
    "X3=np.reshape(X2,4097*len(X),order='F')\n",
    "X4=X3.reshape(len(X),4097,1)\n",
    "X=X4\n",
    "chb_signals = X"
   ]
  },
  {
   "cell_type": "code",
   "execution_count": 144,
   "metadata": {},
   "outputs": [
    {
     "data": {
      "text/plain": [
       "\"\\n# Normalising synthetic signals\\nX = signal_gen\\nXC=X\\nX1=X.reshape(len(X)*4097,order='F')\\nX2=X1.reshape(4097,len(X))\\n\\nX2=normalize(X2,axis=1)\\n\\nX3=np.reshape(X2,4097*len(X),order='F')\\nX4=X3.reshape(len(X),4097,1)\\nX=X4\\nsignal_gen = X\\n\""
      ]
     },
     "execution_count": 144,
     "metadata": {},
     "output_type": "execute_result"
    }
   ],
   "source": [
    "'''\n",
    "# Normalising synthetic signals\n",
    "X = signal_gen\n",
    "XC=X\n",
    "X1=X.reshape(len(X)*4097,order='F')\n",
    "X2=X1.reshape(4097,len(X))\n",
    "\n",
    "X2=normalize(X2,axis=1)\n",
    "\n",
    "X3=np.reshape(X2,4097*len(X),order='F')\n",
    "X4=X3.reshape(len(X),4097,1)\n",
    "X=X4\n",
    "signal_gen = X\n",
    "'''"
   ]
  },
  {
   "cell_type": "code",
   "execution_count": 55,
   "metadata": {},
   "outputs": [
    {
     "data": {
      "text/plain": [
       "(200, 4097, 1)"
      ]
     },
     "execution_count": 55,
     "metadata": {},
     "output_type": "execute_result"
    }
   ],
   "source": [
    "x_test = np.append(signal_gen,chb_signals, axis=0)  # 1,0\n",
    "x_test.shape"
   ]
  },
  {
   "cell_type": "code",
   "execution_count": 56,
   "metadata": {},
   "outputs": [
    {
     "data": {
      "text/plain": [
       "(200, 4097, 1)"
      ]
     },
     "execution_count": 56,
     "metadata": {},
     "output_type": "execute_result"
    }
   ],
   "source": [
    "x_test.shape"
   ]
  },
  {
   "cell_type": "code",
   "execution_count": 57,
   "metadata": {},
   "outputs": [
    {
     "data": {
      "text/plain": [
       "(200,)"
      ]
     },
     "execution_count": 57,
     "metadata": {},
     "output_type": "execute_result"
    }
   ],
   "source": [
    "y_zero = np.zeros((100,),dtype='int64')\n",
    "y_ones = np.ones((100,),dtype='int64')\n",
    "y_test = np.append(y_ones, y_zero, axis=0)\n",
    "y_test.shape\n"
   ]
  },
  {
   "cell_type": "code",
   "execution_count": 58,
   "metadata": {},
   "outputs": [
    {
     "data": {
      "text/plain": [
       "array([1, 1, 1, 1, 1, 1, 1, 1, 1, 1, 1, 1, 1, 1, 1, 1, 1, 1, 1, 1, 1, 1,\n",
       "       1, 1, 1, 1, 1, 1, 1, 1, 1, 1, 1, 1, 1, 1, 1, 1, 1, 1, 1, 1, 1, 1,\n",
       "       1, 1, 1, 1, 1, 1, 1, 1, 1, 1, 1, 1, 1, 1, 1, 1, 1, 1, 1, 1, 1, 1,\n",
       "       1, 1, 1, 1, 1, 1, 1, 1, 1, 1, 1, 1, 1, 1, 1, 1, 1, 1, 1, 1, 1, 1,\n",
       "       1, 1, 1, 1, 1, 1, 1, 1, 1, 1, 1, 1, 0, 0, 0, 0, 0, 0, 0, 0, 0, 0,\n",
       "       0, 0, 0, 0, 0, 0, 0, 0, 0, 0, 0, 0, 0, 0, 0, 0, 0, 0, 0, 0, 0, 0,\n",
       "       0, 0, 0, 0, 0, 0, 0, 0, 0, 0, 0, 0, 0, 0, 0, 0, 0, 0, 0, 0, 0, 0,\n",
       "       0, 0, 0, 0, 0, 0, 0, 0, 0, 0, 0, 0, 0, 0, 0, 0, 0, 0, 0, 0, 0, 0,\n",
       "       0, 0, 0, 0, 0, 0, 0, 0, 0, 0, 0, 0, 0, 0, 0, 0, 0, 0, 0, 0, 0, 0,\n",
       "       0, 0])"
      ]
     },
     "execution_count": 58,
     "metadata": {},
     "output_type": "execute_result"
    }
   ],
   "source": [
    "y_test"
   ]
  },
  {
   "cell_type": "code",
   "execution_count": 59,
   "metadata": {},
   "outputs": [
    {
     "name": "stdout",
     "output_type": "stream",
     "text": [
      "Test loss: 202.6648708600551\n",
      "Test accuracy: 46.50000035762787\n"
     ]
    }
   ],
   "source": [
    "# evaluate the model\n",
    "score = cnn.evaluate(x_test, y_test, verbose=0)\n",
    "print('Test loss:', score[0]*100)\n",
    "print('Test accuracy:', score[1]*100)"
   ]
  },
  {
   "cell_type": "code",
   "execution_count": 60,
   "metadata": {},
   "outputs": [
    {
     "name": "stdout",
     "output_type": "stream",
     "text": [
      "200/200 [==============================] - 0s 528us/sample\n"
     ]
    }
   ],
   "source": [
    "y_pred2 = cnn.predict(x=x_test, verbose=1)"
   ]
  },
  {
   "cell_type": "code",
   "execution_count": 61,
   "metadata": {
    "collapsed": true
   },
   "outputs": [],
   "source": [
    "y_pred3 = np.argmax(y_pred2, axis=1)"
   ]
  },
  {
   "cell_type": "code",
   "execution_count": 62,
   "metadata": {},
   "outputs": [
    {
     "data": {
      "text/plain": [
       "array([0, 0, 0, 0, 0, 0, 0, 0, 0, 0, 0, 0, 0, 0, 0, 0, 0, 0, 0, 0, 0, 0,\n",
       "       0, 0, 0, 0, 0, 0, 0, 0, 0, 0, 0, 0, 0, 0, 0, 0, 0, 0, 0, 0, 0, 0,\n",
       "       0, 0, 0, 0, 0, 0, 0, 0, 0, 0, 0, 0, 0, 0, 0, 0, 0, 0, 0, 0, 0, 0,\n",
       "       0, 0, 0, 0, 0, 0, 0, 0, 0, 0, 0, 0, 0, 0, 0, 0, 0, 0, 0, 0, 0, 0,\n",
       "       0, 0, 0, 0, 0, 0, 0, 0, 0, 0, 0, 0, 0, 0, 0, 1, 0, 0, 0, 0, 0, 1,\n",
       "       0, 0, 0, 0, 0, 0, 1, 0, 0, 0, 0, 0, 0, 0, 0, 0, 0, 0, 0, 0, 0, 0,\n",
       "       0, 0, 0, 0, 0, 0, 0, 0, 0, 0, 0, 0, 0, 0, 0, 0, 0, 0, 0, 0, 0, 0,\n",
       "       0, 0, 0, 0, 0, 0, 0, 0, 0, 1, 0, 0, 0, 0, 0, 0, 0, 0, 1, 0, 0, 0,\n",
       "       0, 0, 1, 0, 0, 0, 1, 0, 0, 0, 0, 0, 0, 0, 0, 0, 0, 0, 0, 0, 0, 0,\n",
       "       0, 0])"
      ]
     },
     "execution_count": 62,
     "metadata": {},
     "output_type": "execute_result"
    }
   ],
   "source": [
    "y_pred3"
   ]
  },
  {
   "cell_type": "code",
   "execution_count": 63,
   "metadata": {},
   "outputs": [
    {
     "name": "stdout",
     "output_type": "stream",
     "text": [
      "46.5\n"
     ]
    }
   ],
   "source": [
    "accuracy = accuracy_score(y_test, y_pred3)\n",
    "print(accuracy*100)"
   ]
  },
  {
   "cell_type": "code",
   "execution_count": 64,
   "metadata": {},
   "outputs": [
    {
     "name": "stdout",
     "output_type": "stream",
     "text": [
      "[[ 93   7]\n",
      " [100   0]]\n"
     ]
    },
    {
     "data": {
      "image/png": "[encoded data removed]",
      "text/plain": [
       "<Figure size 432x288 with 2 Axes>"
      ]
     },
     "metadata": {
      "needs_background": "light"
     },
     "output_type": "display_data"
    }
   ],
   "source": [
    "confusion_mat = plot_confusion_matrix(y_test, y_pred3, classes=[0,1], title='Confusion matrix - Bonn Database')"
   ]
  },
  {
   "cell_type": "code",
   "execution_count": 65,
   "metadata": {},
   "outputs": [
    {
     "name": "stdout",
     "output_type": "stream",
     "text": [
      "                precision    recall  f1-score   support\n",
      "\n",
      "Non-Seizure(0)       0.48      0.93      0.63       100\n",
      "    Seizure(1)       0.00      0.00      0.00       100\n",
      "\n",
      "      accuracy                           0.47       200\n",
      "     macro avg       0.24      0.47      0.32       200\n",
      "  weighted avg       0.24      0.47      0.32       200\n",
      "\n"
     ]
    }
   ],
   "source": [
    "from sklearn.metrics import classification_report\n",
    "print(classification_report(y_test,y_pred3,target_names = ['Non-Seizure(0)', 'Seizure(1)']))"
   ]
  }
 ],
 "metadata": {
  "anaconda-cloud": {},
  "kernelspec": {
   "display_name": "Python 3",
   "language": "python",
   "name": "python3"
  },
  "language_info": {
   "codemirror_mode": {
    "name": "ipython",
    "version": 3
   },
   "file_extension": ".py",
   "mimetype": "text/x-python",
   "name": "python",
   "nbconvert_exporter": "python",
   "pygments_lexer": "ipython3",
   "version": "3.7.3"
  }
 },
 "nbformat": 4,
 "nbformat_minor": 2
}
