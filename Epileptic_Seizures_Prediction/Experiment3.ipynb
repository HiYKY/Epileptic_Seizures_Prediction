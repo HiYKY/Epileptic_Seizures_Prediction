{
 "cells": [
  {
   "cell_type": "code",
   "execution_count": 1,
   "metadata": {
    "collapsed": true
   },
   "outputs": [],
   "source": [
    "import os\n",
    "import numpy as np\n",
    "import glob\n",
    "import pandas as pd  \n",
    "#from keras import utils as np_utils\n",
    "import random\n",
    "import math as mp\n",
    "from scipy.signal import resample\n",
    "from random import shuffle\n",
    "\n",
    "from sklearn.preprocessing import StandardScaler\n",
    "from sklearn.model_selection import train_test_split\n",
    "from sklearn.metrics import accuracy_score\n",
    "from sklearn.metrics import confusion_matrix\n",
    "\n",
    "import tensorflow as tf\n",
    "from tensorflow.keras import layers, models\n",
    "\n",
    "%matplotlib inline\n",
    "import matplotlib.pyplot as plt"
   ]
  },
  {
   "cell_type": "code",
   "execution_count": 2,
   "metadata": {
    "collapsed": true
   },
   "outputs": [],
   "source": [
    "scaler = StandardScaler()"
   ]
  },
  {
   "cell_type": "code",
   "execution_count": 3,
   "metadata": {},
   "outputs": [],
   "source": [
    "'''\n",
    "# generate CHBMIT non seziure samples \n",
    "# chb-all\n",
    "path='/home/ad930/datasetsv4/'\n",
    "dr='non_seizures'\n",
    "nfilenames=[]\n",
    "end='/*.csv'\n",
    "nfilenames=glob.glob(path + dr + end)\n",
    "shuffle(nfilenames)\n",
    "\n",
    "def generate_chbmit_datasets(filenames):\n",
    "    counter=0\n",
    "    oldFS=256\n",
    "    newFS=173.61\n",
    "    flag=0\n",
    "    arry=[]    \n",
    "    for files in filenames:\n",
    "        if counter==1000:\n",
    "            break\n",
    "        df=pd.read_csv(files)\n",
    "        if '\\'F3-C3\\'' in df:\n",
    "            #df = df[\"'F3-C3'\"]\n",
    "            df = df[['\\'F3-C3\\'']]\n",
    "            if df.shape[0] == 6041:\n",
    "                newNumSamples = mp.ceil((df.shape[0] / oldFS) * newFS)\n",
    "                flag=1\n",
    "            if df.shape[0] == 6042:\n",
    "                newNumSamples = mp.floor((df.shape[0] / oldFS) * newFS)\n",
    "                flag=1\n",
    "            if flag==1:\n",
    "                newData = pd.DataFrame(resample(df, newNumSamples))\n",
    "                arry.append(np.array(newData,dtype=\"float32\"))\n",
    "            counter=counter+1\n",
    "    return np.array(arry) \n",
    "'''\n",
    "path='/home/ad930/bonn_eeg_cnn/'\n",
    "dr='Z'\n",
    "nfilenames=[]\n",
    "end='/*.txt'\n",
    "nfilenames=glob.glob(path + dr + end)\n",
    "import numpy as np\n",
    "import pandas as pd\n",
    "\n",
    "def generate_datasets(filenames):\n",
    "    arry=[]    \n",
    "    for files in filenames:\n",
    "        df=pd.read_table(files,names=\"X\")\n",
    "        arry.append(np.array(df,dtype=\"float32\"))\n",
    "    return np.array(arry) "
   ]
  },
  {
   "cell_type": "code",
   "execution_count": 4,
   "metadata": {},
   "outputs": [
    {
     "data": {
      "text/plain": [
       "(100, 4097, 1)"
      ]
     },
     "execution_count": 4,
     "metadata": {},
     "output_type": "execute_result"
    }
   ],
   "source": [
    "chb_signals=generate_datasets(nfilenames)\n",
    "chb_signals.shape"
   ]
  },
  {
   "cell_type": "code",
   "execution_count": 5,
   "metadata": {
    "collapsed": true
   },
   "outputs": [],
   "source": [
    "X = chb_signals\n",
    "XC=X\n",
    "X1=X.reshape(len(X)*4097,order='F')\n",
    "X2=X1.reshape(4097,len(X))\n",
    "\n",
    "X2=scaler.fit_transform(X2)  #normalize(X2,axis=1)\n",
    "\n",
    "X3=np.reshape(X2,4097*len(X),order='F')\n",
    "X4=X3.reshape(len(X),4097,1)\n",
    "X=X4\n",
    "chb_signals = X"
   ]
  },
  {
   "cell_type": "code",
   "execution_count": 6,
   "metadata": {},
   "outputs": [
    {
     "name": "stderr",
     "output_type": "stream",
     "text": [
      "WARNING: Logging before flag parsing goes to stderr.\n",
      "W0623 09:02:06.050083 140653782984448 hdf5_format.py:171] No training configuration found in save file: the model was *not* compiled. Compile it manually.\n"
     ]
    }
   ],
   "source": [
    "# load generator\n",
    "from tensorflow.keras.models import load_model\n",
    "gen = load_model('./GAN_Generator_model2.h5')"
   ]
  },
  {
   "cell_type": "code",
   "execution_count": 7,
   "metadata": {
    "collapsed": true
   },
   "outputs": [],
   "source": [
    "# generate 500 synthetic seizure signals\n",
    "signal_gen = []\n",
    "for i in range(0,100):\n",
    "    noise = tf.random.normal([1, 100])\n",
    "    generated_signal = gen(noise, training=False)\n",
    "    generated_signal = generated_signal[:,:,0,:]\n",
    "    signal_gen.append(generated_signal[0])\n"
   ]
  },
  {
   "cell_type": "code",
   "execution_count": 8,
   "metadata": {
    "collapsed": true
   },
   "outputs": [],
   "source": [
    "signal_gen = np.array(signal_gen)"
   ]
  },
  {
   "cell_type": "code",
   "execution_count": 9,
   "metadata": {},
   "outputs": [],
   "source": [
    "X = signal_gen\n",
    "XC=X\n",
    "X1=X.reshape(len(X)*4097,order='F')\n",
    "X2=X1.reshape(4097,len(X))\n",
    "\n",
    "X2=scaler.fit_transform(X2) #normalize(X2,axis=1)\n",
    "\n",
    "X3=np.reshape(X2,4097*len(X),order='F')\n",
    "X4=X3.reshape(len(X),4097,1)\n",
    "X=X4\n",
    "signal_gen = X"
   ]
  },
  {
   "cell_type": "code",
   "execution_count": 10,
   "metadata": {},
   "outputs": [
    {
     "data": {
      "text/plain": [
       "(200, 4097, 1)"
      ]
     },
     "execution_count": 10,
     "metadata": {},
     "output_type": "execute_result"
    }
   ],
   "source": [
    "x_train = np.append(signal_gen,chb_signals, axis=0)  # 1,0\n",
    "x_train.shape"
   ]
  },
  {
   "cell_type": "code",
   "execution_count": 11,
   "metadata": {},
   "outputs": [
    {
     "data": {
      "text/plain": [
       "(200,)"
      ]
     },
     "execution_count": 11,
     "metadata": {},
     "output_type": "execute_result"
    }
   ],
   "source": [
    "y_ones = np.ones((100,),dtype='int64')\n",
    "y_zero = np.zeros((100,),dtype='int64')\n",
    "y_train = np.append(y_ones, y_zero, axis=0)\n",
    "y_train.shape"
   ]
  },
  {
   "cell_type": "code",
   "execution_count": 12,
   "metadata": {
    "collapsed": true
   },
   "outputs": [],
   "source": [
    "xx_train, xx_test, yy_train, yy_test = train_test_split(x_train, y_train, test_size=0.20, random_state=42)"
   ]
  },
  {
   "cell_type": "code",
   "execution_count": 13,
   "metadata": {
    "collapsed": true
   },
   "outputs": [],
   "source": [
    "# Initialising the CNN\n",
    "cnn = tf.keras.Sequential()\n",
    "\n",
    "# First Convolution Layer\n",
    "cnn.add(layers.Conv1D(4, 6, input_shape = (4097, 1), activation='relu'))\n",
    "#cnn.add(layers.LeakyReLU(alpha=0.05))  \n",
    "cnn.add(layers.BatchNormalization())\n",
    "cnn.add(layers.MaxPooling1D(pool_size = 2, strides = 2))\n",
    "#cnn.add(Dropout(0.25))\n",
    "\n",
    "# Adding a second convolutional layer\n",
    "cnn.add(layers.Conv1D(4, 5,activation='relu'))  #number of output filters, kernel size\n",
    "#cnn.add(layers.LeakyReLU(alpha=0.05)) \n",
    "cnn.add(layers.MaxPooling1D(pool_size = 2, strides = 2))\n",
    "#cnn.add(Dropout(0.25))\n",
    "\n",
    "# Adding a third convolutional layer\n",
    "cnn.add(layers.Conv1D(10, 4, activation='relu' ))\n",
    "#cnn.add(layers.LeakyReLU(alpha=0.05)) \n",
    "cnn.add(layers.MaxPooling1D(pool_size = 2, strides = 2))\n",
    "#cnn.add(Dropout(0.4))\n",
    "\n",
    "# Adding a fourth convolutional layer\n",
    "cnn.add(layers.Conv1D(10, 4, activation='relu' ))\n",
    "#cnn.add(layers.LeakyReLU(alpha=0.05)) \n",
    "cnn.add(layers.MaxPooling1D(pool_size = 2, strides = 2))\n",
    "#cnn.add(Dropout(0.4))\n",
    "\n",
    "# Adding a fifth convolutional layer\n",
    "cnn.add(layers.Conv1D(15, 4, activation='relu' ))\n",
    "#cnn.add(layers.LeakyReLU(alpha=0.05)) \n",
    "cnn.add(layers.MaxPooling1D(pool_size = 2, strides = 2))\n",
    "#cnn.add(Dropout(0.4))\n",
    "\n",
    "# Step 3 - Flattening\n",
    "cnn.add(layers.Flatten())\n",
    "\n",
    "# Step 4 - Full connection\n",
    "cnn.add(layers.Dense(units = 50, activation='relu'))\n",
    "#cnn.add(layers.LeakyReLU(alpha=0.05)) \n",
    "#cnn.add(layers.Dropout(0.1))\n",
    "cnn.add(layers.Dense(units = 20, activation='relu'))\n",
    "#cnn.add(layers.LeakyReLU(alpha=0.05))\n",
    "cnn.add(layers.Dense(units = 2, activation = 'softmax'))\n",
    "\n",
    "\n",
    "# Compiling the CNN\n",
    "cnn.compile(optimizer = tf.keras.optimizers.SGD(lr=0.01,momentum=0.3, decay=0.01), loss = 'sparse_categorical_crossentropy', metrics = ['accuracy'])"
   ]
  },
  {
   "cell_type": "code",
   "execution_count": 14,
   "metadata": {},
   "outputs": [
    {
     "name": "stdout",
     "output_type": "stream",
     "text": [
      "Model: \"sequential\"\n",
      "_________________________________________________________________\n",
      "Layer (type)                 Output Shape              Param #   \n",
      "=================================================================\n",
      "conv1d (Conv1D)              (None, 4092, 4)           28        \n",
      "_________________________________________________________________\n",
      "batch_normalization (BatchNo (None, 4092, 4)           16        \n",
      "_________________________________________________________________\n",
      "max_pooling1d (MaxPooling1D) (None, 2046, 4)           0         \n",
      "_________________________________________________________________\n",
      "conv1d_1 (Conv1D)            (None, 2042, 4)           84        \n",
      "_________________________________________________________________\n",
      "max_pooling1d_1 (MaxPooling1 (None, 1021, 4)           0         \n",
      "_________________________________________________________________\n",
      "conv1d_2 (Conv1D)            (None, 1018, 10)          170       \n",
      "_________________________________________________________________\n",
      "max_pooling1d_2 (MaxPooling1 (None, 509, 10)           0         \n",
      "_________________________________________________________________\n",
      "conv1d_3 (Conv1D)            (None, 506, 10)           410       \n",
      "_________________________________________________________________\n",
      "max_pooling1d_3 (MaxPooling1 (None, 253, 10)           0         \n",
      "_________________________________________________________________\n",
      "conv1d_4 (Conv1D)            (None, 250, 15)           615       \n",
      "_________________________________________________________________\n",
      "max_pooling1d_4 (MaxPooling1 (None, 125, 15)           0         \n",
      "_________________________________________________________________\n",
      "flatten (Flatten)            (None, 1875)              0         \n",
      "_________________________________________________________________\n",
      "dense (Dense)                (None, 50)                93800     \n",
      "_________________________________________________________________\n",
      "dense_1 (Dense)              (None, 20)                1020      \n",
      "_________________________________________________________________\n",
      "dense_2 (Dense)              (None, 2)                 42        \n",
      "=================================================================\n",
      "Total params: 96,185\n",
      "Trainable params: 96,177\n",
      "Non-trainable params: 8\n",
      "_________________________________________________________________\n"
     ]
    }
   ],
   "source": [
    "cnn.summary()"
   ]
  },
  {
   "cell_type": "code",
   "execution_count": 15,
   "metadata": {},
   "outputs": [
    {
     "name": "stderr",
     "output_type": "stream",
     "text": [
      "W0623 09:06:09.217583 140653782984448 deprecation.py:323] From /home/ad930/anaconda3/lib/python3.5/site-packages/tensorflow/python/ops/math_grad.py:1250: add_dispatch_support.<locals>.wrapper (from tensorflow.python.ops.array_ops) is deprecated and will be removed in a future version.\n",
      "Instructions for updating:\n",
      "Use tf.where in 2.0, which has the same broadcast rule as np.where\n"
     ]
    },
    {
     "name": "stdout",
     "output_type": "stream",
     "text": [
      "Train on 160 samples, validate on 40 samples\n",
      "Epoch 1/100\n",
      "160/160 [==============================] - 1s 5ms/sample - loss: 0.4813 - accuracy: 0.7750 - val_loss: 0.5474 - val_accuracy: 1.0000\n",
      "Epoch 2/100\n",
      "160/160 [==============================] - 0s 1ms/sample - loss: 0.1040 - accuracy: 1.0000 - val_loss: 0.3251 - val_accuracy: 1.0000\n",
      "Epoch 3/100\n",
      "160/160 [==============================] - 0s 1ms/sample - loss: 0.0181 - accuracy: 1.0000 - val_loss: 0.1997 - val_accuracy: 1.0000\n",
      "Epoch 4/100\n",
      "160/160 [==============================] - 0s 1ms/sample - loss: 0.0079 - accuracy: 1.0000 - val_loss: 0.1246 - val_accuracy: 1.0000\n",
      "Epoch 5/100\n",
      "160/160 [==============================] - 0s 1ms/sample - loss: 0.0051 - accuracy: 1.0000 - val_loss: 0.0772 - val_accuracy: 1.0000\n",
      "Epoch 6/100\n",
      "160/160 [==============================] - 0s 1ms/sample - loss: 0.0036 - accuracy: 1.0000 - val_loss: 0.0467 - val_accuracy: 1.0000\n",
      "Epoch 7/100\n",
      "160/160 [==============================] - 0s 1ms/sample - loss: 0.0030 - accuracy: 1.0000 - val_loss: 0.0289 - val_accuracy: 1.0000\n",
      "Epoch 8/100\n",
      "160/160 [==============================] - 0s 1ms/sample - loss: 0.0025 - accuracy: 1.0000 - val_loss: 0.0181 - val_accuracy: 1.0000\n",
      "Epoch 9/100\n",
      "160/160 [==============================] - 0s 1ms/sample - loss: 0.0022 - accuracy: 1.0000 - val_loss: 0.0116 - val_accuracy: 1.0000\n",
      "Epoch 10/100\n",
      "160/160 [==============================] - 0s 1ms/sample - loss: 0.0019 - accuracy: 1.0000 - val_loss: 0.0076 - val_accuracy: 1.0000\n",
      "Epoch 11/100\n",
      "160/160 [==============================] - 0s 1ms/sample - loss: 0.0018 - accuracy: 1.0000 - val_loss: 0.0053 - val_accuracy: 1.0000\n",
      "Epoch 12/100\n",
      "160/160 [==============================] - 0s 1ms/sample - loss: 0.0016 - accuracy: 1.0000 - val_loss: 0.0038 - val_accuracy: 1.0000\n",
      "Epoch 13/100\n",
      "160/160 [==============================] - 0s 1ms/sample - loss: 0.0015 - accuracy: 1.0000 - val_loss: 0.0028 - val_accuracy: 1.0000\n",
      "Epoch 14/100\n",
      "160/160 [==============================] - 0s 1ms/sample - loss: 0.0014 - accuracy: 1.0000 - val_loss: 0.0022 - val_accuracy: 1.0000\n",
      "Epoch 15/100\n",
      "160/160 [==============================] - 0s 1ms/sample - loss: 0.0013 - accuracy: 1.0000 - val_loss: 0.0018 - val_accuracy: 1.0000\n",
      "Epoch 16/100\n",
      "160/160 [==============================] - 0s 1ms/sample - loss: 0.0012 - accuracy: 1.0000 - val_loss: 0.0015 - val_accuracy: 1.0000\n",
      "Epoch 17/100\n",
      "160/160 [==============================] - 0s 1ms/sample - loss: 0.0012 - accuracy: 1.0000 - val_loss: 0.0013 - val_accuracy: 1.0000\n",
      "Epoch 18/100\n",
      "160/160 [==============================] - 0s 1ms/sample - loss: 0.0011 - accuracy: 1.0000 - val_loss: 0.0012 - val_accuracy: 1.0000\n",
      "Epoch 19/100\n",
      "160/160 [==============================] - 0s 1ms/sample - loss: 0.0011 - accuracy: 1.0000 - val_loss: 0.0011 - val_accuracy: 1.0000\n",
      "Epoch 20/100\n",
      "160/160 [==============================] - 0s 1ms/sample - loss: 0.0010 - accuracy: 1.0000 - val_loss: 9.7520e-04 - val_accuracy: 1.0000\n",
      "Epoch 21/100\n",
      "160/160 [==============================] - 0s 1ms/sample - loss: 9.8468e-04 - accuracy: 1.0000 - val_loss: 9.1447e-04 - val_accuracy: 1.0000\n",
      "Epoch 22/100\n",
      "160/160 [==============================] - 0s 1ms/sample - loss: 9.9668e-04 - accuracy: 1.0000 - val_loss: 8.6644e-04 - val_accuracy: 1.0000\n",
      "Epoch 23/100\n",
      "160/160 [==============================] - 0s 1ms/sample - loss: 0.0010 - accuracy: 1.0000 - val_loss: 8.2675e-04 - val_accuracy: 1.0000\n",
      "Epoch 24/100\n",
      "160/160 [==============================] - 0s 1ms/sample - loss: 9.3574e-04 - accuracy: 1.0000 - val_loss: 7.8836e-04 - val_accuracy: 1.0000\n",
      "Epoch 25/100\n",
      "160/160 [==============================] - 0s 1ms/sample - loss: 8.7110e-04 - accuracy: 1.0000 - val_loss: 7.5542e-04 - val_accuracy: 1.0000\n",
      "Epoch 26/100\n",
      "160/160 [==============================] - 0s 1ms/sample - loss: 8.3679e-04 - accuracy: 1.0000 - val_loss: 7.2715e-04 - val_accuracy: 1.0000\n",
      "Epoch 27/100\n",
      "160/160 [==============================] - 0s 1ms/sample - loss: 7.9837e-04 - accuracy: 1.0000 - val_loss: 7.0482e-04 - val_accuracy: 1.0000\n",
      "Epoch 28/100\n",
      "160/160 [==============================] - 0s 1ms/sample - loss: 8.6642e-04 - accuracy: 1.0000 - val_loss: 6.8778e-04 - val_accuracy: 1.0000\n",
      "Epoch 29/100\n",
      "160/160 [==============================] - 0s 1ms/sample - loss: 7.4612e-04 - accuracy: 1.0000 - val_loss: 6.7183e-04 - val_accuracy: 1.0000\n",
      "Epoch 30/100\n",
      "160/160 [==============================] - 0s 1ms/sample - loss: 8.2816e-04 - accuracy: 1.0000 - val_loss: 6.5390e-04 - val_accuracy: 1.0000\n",
      "Epoch 31/100\n",
      "160/160 [==============================] - 0s 1ms/sample - loss: 7.5579e-04 - accuracy: 1.0000 - val_loss: 6.4101e-04 - val_accuracy: 1.0000\n",
      "Epoch 32/100\n",
      "160/160 [==============================] - 0s 1ms/sample - loss: 7.5376e-04 - accuracy: 1.0000 - val_loss: 6.2881e-04 - val_accuracy: 1.0000\n",
      "Epoch 33/100\n",
      "160/160 [==============================] - 0s 1ms/sample - loss: 7.7502e-04 - accuracy: 1.0000 - val_loss: 6.1391e-04 - val_accuracy: 1.0000\n",
      "Epoch 34/100\n",
      "160/160 [==============================] - 0s 1ms/sample - loss: 7.3434e-04 - accuracy: 1.0000 - val_loss: 6.0011e-04 - val_accuracy: 1.0000\n",
      "Epoch 35/100\n",
      "160/160 [==============================] - 0s 1ms/sample - loss: 6.8843e-04 - accuracy: 1.0000 - val_loss: 5.9107e-04 - val_accuracy: 1.0000\n",
      "Epoch 36/100\n",
      "160/160 [==============================] - 0s 1ms/sample - loss: 7.1480e-04 - accuracy: 1.0000 - val_loss: 5.7872e-04 - val_accuracy: 1.0000\n",
      "Epoch 37/100\n",
      "160/160 [==============================] - 0s 1ms/sample - loss: 6.8203e-04 - accuracy: 1.0000 - val_loss: 5.6871e-04 - val_accuracy: 1.0000\n",
      "Epoch 38/100\n",
      "160/160 [==============================] - 0s 1ms/sample - loss: 6.3728e-04 - accuracy: 1.0000 - val_loss: 5.5889e-04 - val_accuracy: 1.0000\n",
      "Epoch 39/100\n",
      "160/160 [==============================] - 0s 1ms/sample - loss: 7.1626e-04 - accuracy: 1.0000 - val_loss: 5.5053e-04 - val_accuracy: 1.0000\n",
      "Epoch 40/100\n",
      "160/160 [==============================] - 0s 1ms/sample - loss: 6.8356e-04 - accuracy: 1.0000 - val_loss: 5.4114e-04 - val_accuracy: 1.0000\n",
      "Epoch 41/100\n",
      "160/160 [==============================] - 0s 1ms/sample - loss: 6.4652e-04 - accuracy: 1.0000 - val_loss: 5.3216e-04 - val_accuracy: 1.0000\n",
      "Epoch 42/100\n",
      "160/160 [==============================] - 0s 1ms/sample - loss: 6.1422e-04 - accuracy: 1.0000 - val_loss: 5.2412e-04 - val_accuracy: 1.0000\n",
      "Epoch 43/100\n",
      "160/160 [==============================] - 0s 1ms/sample - loss: 6.3756e-04 - accuracy: 1.0000 - val_loss: 5.1590e-04 - val_accuracy: 1.0000\n",
      "Epoch 44/100\n",
      "160/160 [==============================] - 0s 1ms/sample - loss: 6.0311e-04 - accuracy: 1.0000 - val_loss: 5.0794e-04 - val_accuracy: 1.0000\n",
      "Epoch 45/100\n",
      "160/160 [==============================] - 0s 1ms/sample - loss: 6.1108e-04 - accuracy: 1.0000 - val_loss: 5.0574e-04 - val_accuracy: 1.0000\n",
      "Epoch 46/100\n",
      "160/160 [==============================] - 0s 1ms/sample - loss: 5.8230e-04 - accuracy: 1.0000 - val_loss: 5.0086e-04 - val_accuracy: 1.0000\n",
      "Epoch 47/100\n",
      "160/160 [==============================] - 0s 1ms/sample - loss: 6.2515e-04 - accuracy: 1.0000 - val_loss: 4.9337e-04 - val_accuracy: 1.0000\n",
      "Epoch 48/100\n",
      "160/160 [==============================] - 0s 1ms/sample - loss: 5.8261e-04 - accuracy: 1.0000 - val_loss: 4.8649e-04 - val_accuracy: 1.0000\n",
      "Epoch 49/100\n",
      "160/160 [==============================] - 0s 1ms/sample - loss: 6.2338e-04 - accuracy: 1.0000 - val_loss: 4.8329e-04 - val_accuracy: 1.0000\n",
      "Epoch 50/100\n",
      "160/160 [==============================] - 0s 1ms/sample - loss: 5.8683e-04 - accuracy: 1.0000 - val_loss: 4.7955e-04 - val_accuracy: 1.0000\n",
      "Epoch 51/100\n",
      "160/160 [==============================] - 0s 1ms/sample - loss: 5.8551e-04 - accuracy: 1.0000 - val_loss: 4.7227e-04 - val_accuracy: 1.0000\n",
      "Epoch 52/100\n",
      "160/160 [==============================] - 0s 1ms/sample - loss: 5.7914e-04 - accuracy: 1.0000 - val_loss: 4.7291e-04 - val_accuracy: 1.0000\n",
      "Epoch 53/100\n",
      "160/160 [==============================] - 0s 1ms/sample - loss: 5.9476e-04 - accuracy: 1.0000 - val_loss: 4.6849e-04 - val_accuracy: 1.0000\n",
      "Epoch 54/100\n",
      "160/160 [==============================] - 0s 1ms/sample - loss: 5.7451e-04 - accuracy: 1.0000 - val_loss: 4.6233e-04 - val_accuracy: 1.0000\n",
      "Epoch 55/100\n",
      "160/160 [==============================] - 0s 1ms/sample - loss: 5.5753e-04 - accuracy: 1.0000 - val_loss: 4.5427e-04 - val_accuracy: 1.0000\n",
      "Epoch 56/100\n",
      "160/160 [==============================] - 0s 1ms/sample - loss: 5.2837e-04 - accuracy: 1.0000 - val_loss: 4.5072e-04 - val_accuracy: 1.0000\n",
      "Epoch 57/100\n",
      "160/160 [==============================] - 0s 1ms/sample - loss: 5.4809e-04 - accuracy: 1.0000 - val_loss: 4.4663e-04 - val_accuracy: 1.0000\n",
      "Epoch 58/100\n",
      "160/160 [==============================] - 0s 1ms/sample - loss: 5.3139e-04 - accuracy: 1.0000 - val_loss: 4.4269e-04 - val_accuracy: 1.0000\n",
      "Epoch 59/100\n",
      "160/160 [==============================] - 0s 1ms/sample - loss: 5.3339e-04 - accuracy: 1.0000 - val_loss: 4.3822e-04 - val_accuracy: 1.0000\n",
      "Epoch 60/100\n",
      "160/160 [==============================] - 0s 1ms/sample - loss: 5.6889e-04 - accuracy: 1.0000 - val_loss: 4.3257e-04 - val_accuracy: 1.0000\n",
      "Epoch 61/100\n",
      "160/160 [==============================] - 0s 1ms/sample - loss: 4.6136e-04 - accuracy: 1.0000 - val_loss: 4.2960e-04 - val_accuracy: 1.0000\n",
      "Epoch 62/100\n",
      "160/160 [==============================] - 0s 1ms/sample - loss: 5.0774e-04 - accuracy: 1.0000 - val_loss: 4.2709e-04 - val_accuracy: 1.0000\n",
      "Epoch 63/100\n",
      "160/160 [==============================] - 0s 1ms/sample - loss: 5.3805e-04 - accuracy: 1.0000 - val_loss: 4.2427e-04 - val_accuracy: 1.0000\n",
      "Epoch 64/100\n",
      "160/160 [==============================] - 0s 1ms/sample - loss: 4.8898e-04 - accuracy: 1.0000 - val_loss: 4.2193e-04 - val_accuracy: 1.0000\n",
      "Epoch 65/100\n",
      "160/160 [==============================] - 0s 1ms/sample - loss: 5.0206e-04 - accuracy: 1.0000 - val_loss: 4.1771e-04 - val_accuracy: 1.0000\n",
      "Epoch 66/100\n",
      "160/160 [==============================] - 0s 1ms/sample - loss: 4.7465e-04 - accuracy: 1.0000 - val_loss: 4.1633e-04 - val_accuracy: 1.0000\n",
      "Epoch 67/100\n",
      "160/160 [==============================] - 0s 1ms/sample - loss: 4.9341e-04 - accuracy: 1.0000 - val_loss: 4.1414e-04 - val_accuracy: 1.0000\n",
      "Epoch 68/100\n",
      "160/160 [==============================] - 0s 1ms/sample - loss: 5.2412e-04 - accuracy: 1.0000 - val_loss: 4.0919e-04 - val_accuracy: 1.0000\n",
      "Epoch 69/100\n",
      "160/160 [==============================] - 0s 1ms/sample - loss: 5.2305e-04 - accuracy: 1.0000 - val_loss: 4.0664e-04 - val_accuracy: 1.0000\n",
      "Epoch 70/100\n",
      "160/160 [==============================] - 0s 1ms/sample - loss: 4.7956e-04 - accuracy: 1.0000 - val_loss: 4.0446e-04 - val_accuracy: 1.0000\n",
      "Epoch 71/100\n",
      "160/160 [==============================] - 0s 1ms/sample - loss: 5.0225e-04 - accuracy: 1.0000 - val_loss: 3.9930e-04 - val_accuracy: 1.0000\n",
      "Epoch 72/100\n",
      "160/160 [==============================] - 0s 1ms/sample - loss: 4.7599e-04 - accuracy: 1.0000 - val_loss: 3.9634e-04 - val_accuracy: 1.0000\n",
      "Epoch 73/100\n",
      "160/160 [==============================] - 0s 1ms/sample - loss: 4.4114e-04 - accuracy: 1.0000 - val_loss: 3.9395e-04 - val_accuracy: 1.0000\n",
      "Epoch 74/100\n",
      "160/160 [==============================] - 0s 1ms/sample - loss: 4.8058e-04 - accuracy: 1.0000 - val_loss: 3.9124e-04 - val_accuracy: 1.0000\n",
      "Epoch 75/100\n",
      "160/160 [==============================] - 0s 1ms/sample - loss: 4.6124e-04 - accuracy: 1.0000 - val_loss: 3.8749e-04 - val_accuracy: 1.0000\n",
      "Epoch 76/100\n",
      "160/160 [==============================] - 0s 1ms/sample - loss: 4.7569e-04 - accuracy: 1.0000 - val_loss: 3.8599e-04 - val_accuracy: 1.0000\n",
      "Epoch 77/100\n",
      "160/160 [==============================] - 0s 1ms/sample - loss: 4.4001e-04 - accuracy: 1.0000 - val_loss: 3.8333e-04 - val_accuracy: 1.0000\n",
      "Epoch 78/100\n",
      "160/160 [==============================] - 0s 1ms/sample - loss: 4.8927e-04 - accuracy: 1.0000 - val_loss: 3.8133e-04 - val_accuracy: 1.0000\n",
      "Epoch 79/100\n",
      "160/160 [==============================] - 0s 1ms/sample - loss: 4.5961e-04 - accuracy: 1.0000 - val_loss: 3.7887e-04 - val_accuracy: 1.0000\n",
      "Epoch 80/100\n",
      "160/160 [==============================] - 0s 1ms/sample - loss: 4.3505e-04 - accuracy: 1.0000 - val_loss: 3.7619e-04 - val_accuracy: 1.0000\n",
      "Epoch 81/100\n",
      "160/160 [==============================] - 0s 1ms/sample - loss: 4.5406e-04 - accuracy: 1.0000 - val_loss: 3.7494e-04 - val_accuracy: 1.0000\n",
      "Epoch 82/100\n",
      "160/160 [==============================] - 0s 1ms/sample - loss: 4.6852e-04 - accuracy: 1.0000 - val_loss: 3.7402e-04 - val_accuracy: 1.0000\n",
      "Epoch 83/100\n",
      "160/160 [==============================] - 0s 1ms/sample - loss: 4.6565e-04 - accuracy: 1.0000 - val_loss: 3.6943e-04 - val_accuracy: 1.0000\n",
      "Epoch 84/100\n",
      "160/160 [==============================] - 0s 1ms/sample - loss: 4.5842e-04 - accuracy: 1.0000 - val_loss: 3.7024e-04 - val_accuracy: 1.0000\n",
      "Epoch 85/100\n",
      "160/160 [==============================] - 0s 1ms/sample - loss: 4.5649e-04 - accuracy: 1.0000 - val_loss: 3.6736e-04 - val_accuracy: 1.0000\n",
      "Epoch 86/100\n",
      "160/160 [==============================] - 0s 1ms/sample - loss: 4.5982e-04 - accuracy: 1.0000 - val_loss: 3.6600e-04 - val_accuracy: 1.0000\n",
      "Epoch 87/100\n",
      "160/160 [==============================] - 0s 1ms/sample - loss: 4.2820e-04 - accuracy: 1.0000 - val_loss: 3.6437e-04 - val_accuracy: 1.0000\n",
      "Epoch 88/100\n",
      "160/160 [==============================] - 0s 1ms/sample - loss: 4.3563e-04 - accuracy: 1.0000 - val_loss: 3.6043e-04 - val_accuracy: 1.0000\n",
      "Epoch 89/100\n",
      "160/160 [==============================] - 0s 1ms/sample - loss: 4.4899e-04 - accuracy: 1.0000 - val_loss: 3.5993e-04 - val_accuracy: 1.0000\n",
      "Epoch 90/100\n",
      "160/160 [==============================] - 0s 1ms/sample - loss: 4.7747e-04 - accuracy: 1.0000 - val_loss: 3.5723e-04 - val_accuracy: 1.0000\n",
      "Epoch 91/100\n",
      "160/160 [==============================] - 0s 1ms/sample - loss: 4.5963e-04 - accuracy: 1.0000 - val_loss: 3.5814e-04 - val_accuracy: 1.0000\n",
      "Epoch 92/100\n",
      "160/160 [==============================] - 0s 1ms/sample - loss: 4.4992e-04 - accuracy: 1.0000 - val_loss: 3.5524e-04 - val_accuracy: 1.0000\n",
      "Epoch 93/100\n",
      "160/160 [==============================] - 0s 1ms/sample - loss: 4.1618e-04 - accuracy: 1.0000 - val_loss: 3.5205e-04 - val_accuracy: 1.0000\n",
      "Epoch 94/100\n",
      "160/160 [==============================] - 0s 1ms/sample - loss: 4.3504e-04 - accuracy: 1.0000 - val_loss: 3.5043e-04 - val_accuracy: 1.0000\n",
      "Epoch 95/100\n",
      "160/160 [==============================] - 0s 1ms/sample - loss: 4.5761e-04 - accuracy: 1.0000 - val_loss: 3.5037e-04 - val_accuracy: 1.0000\n",
      "Epoch 96/100\n",
      "160/160 [==============================] - 0s 1ms/sample - loss: 4.2112e-04 - accuracy: 1.0000 - val_loss: 3.4820e-04 - val_accuracy: 1.0000\n",
      "Epoch 97/100\n",
      "160/160 [==============================] - 0s 1ms/sample - loss: 4.2715e-04 - accuracy: 1.0000 - val_loss: 3.4749e-04 - val_accuracy: 1.0000\n",
      "Epoch 98/100\n",
      "160/160 [==============================] - 0s 1ms/sample - loss: 4.3668e-04 - accuracy: 1.0000 - val_loss: 3.4669e-04 - val_accuracy: 1.0000\n",
      "Epoch 99/100\n",
      "160/160 [==============================] - 0s 1ms/sample - loss: 4.4635e-04 - accuracy: 1.0000 - val_loss: 3.4471e-04 - val_accuracy: 1.0000\n",
      "Epoch 100/100\n",
      "160/160 [==============================] - 0s 1ms/sample - loss: 3.9654e-04 - accuracy: 1.0000 - val_loss: 3.4339e-04 - val_accuracy: 1.0000\n"
     ]
    }
   ],
   "source": [
    "model=cnn.fit(x=xx_train, y=yy_train, batch_size=5, epochs=100, verbose=1,validation_data=(xx_test,yy_test))"
   ]
  },
  {
   "cell_type": "code",
   "execution_count": 16,
   "metadata": {
    "collapsed": true
   },
   "outputs": [],
   "source": [
    "def plot_acc_valgraph(model,num):\n",
    "    plt.figure(num)\n",
    "    plt.plot(model.history['accuracy'])\n",
    "    plt.plot(model.history['val_accuracy'])\n",
    "    plt.legend(['Training','Validation'])\n",
    "    plt.title('Accuracy')\n",
    "    plt.xlabel('Epochs')"
   ]
  },
  {
   "cell_type": "code",
   "execution_count": 17,
   "metadata": {},
   "outputs": [
    {
     "data": {
      "image/png": "[encoded data removed]",
      "text/plain": [
       "<Figure size 432x288 with 1 Axes>"
      ]
     },
     "metadata": {
      "needs_background": "light"
     },
     "output_type": "display_data"
    }
   ],
   "source": [
    "plot_acc_valgraph(model,1)"
   ]
  },
  {
   "cell_type": "code",
   "execution_count": 18,
   "metadata": {},
   "outputs": [
    {
     "name": "stdout",
     "output_type": "stream",
     "text": [
      "Test loss: 0.0343390874331817\n",
      "Test accuracy: 100.0\n"
     ]
    }
   ],
   "source": [
    "# evaluate the model\n",
    "score = cnn.evaluate(xx_test, yy_test, verbose=0)\n",
    "print('Test loss:', score[0]*100)\n",
    "print('Test accuracy:', score[1]*100)"
   ]
  },
  {
   "cell_type": "code",
   "execution_count": 19,
   "metadata": {},
   "outputs": [
    {
     "name": "stdout",
     "output_type": "stream",
     "text": [
      "40/40 [==============================] - 0s 4ms/sample\n"
     ]
    }
   ],
   "source": [
    "yy_pred=cnn.predict(x=xx_test, verbose=1)"
   ]
  },
  {
   "cell_type": "code",
   "execution_count": 20,
   "metadata": {
    "collapsed": true
   },
   "outputs": [],
   "source": [
    "yy_pred1 = np.argmax(yy_pred, axis=1)"
   ]
  },
  {
   "cell_type": "code",
   "execution_count": 21,
   "metadata": {},
   "outputs": [
    {
     "name": "stdout",
     "output_type": "stream",
     "text": [
      "100.0\n"
     ]
    }
   ],
   "source": [
    "accuracy = accuracy_score(yy_test, yy_pred1)\n",
    "print(accuracy*100)"
   ]
  },
  {
   "cell_type": "code",
   "execution_count": 22,
   "metadata": {
    "collapsed": true
   },
   "outputs": [],
   "source": [
    "def plot_confusion_matrix(y_true, y_pred, classes,\n",
    "                          title=None,\n",
    "                          cmap=plt.cm.Blues):\n",
    "    \"\"\"\n",
    "    This function prints and plots the confusion matrix.\n",
    "    Normalization can be applied by setting `normalize=True`.\n",
    "    \"\"\"\n",
    "    # Compute confusion matrix\n",
    "    cm = confusion_matrix(y_true, y_pred)\n",
    "    print(cm)\n",
    "\n",
    "    fig, ax = plt.subplots()\n",
    "    im = ax.imshow(cm, interpolation='nearest', cmap=cmap)\n",
    "    ax.figure.colorbar(im, ax=ax)\n",
    "    # We want to show all ticks...\n",
    "    ax.set(xticks=np.arange(cm.shape[1]),\n",
    "           yticks=np.arange(cm.shape[0]),\n",
    "           # ... and label them with the respective list entries\n",
    "           xticklabels=classes, yticklabels=classes,\n",
    "           title=title,\n",
    "           ylabel='True label',\n",
    "           xlabel='Predicted label')\n",
    "\n",
    "    # Rotate the tick labels and set their alignment.\n",
    "    plt.setp(ax.get_xticklabels(), rotation=45, ha=\"right\",\n",
    "             rotation_mode=\"anchor\")\n",
    "\n",
    "    # Loop over data dimensions and create text annotations.\n",
    "    # '.2f' if normalize else \n",
    "    fmt = 'd'\n",
    "    thresh = cm.max() / 2.\n",
    "    for i in range(cm.shape[0]):\n",
    "        for j in range(cm.shape[1]):\n",
    "            ax.text(j, i, format(cm[i, j], fmt),\n",
    "                    ha=\"center\", va=\"center\",\n",
    "                    color=\"white\" if cm[i, j] > thresh else \"black\")\n",
    "    fig.tight_layout()\n",
    "    return ax"
   ]
  },
  {
   "cell_type": "code",
   "execution_count": 23,
   "metadata": {},
   "outputs": [
    {
     "name": "stdout",
     "output_type": "stream",
     "text": [
      "[[19  0]\n",
      " [ 0 21]]\n"
     ]
    },
    {
     "data": {
      "image/png": "[encoded data removed]",
      "text/plain": [
       "<Figure size 432x288 with 2 Axes>"
      ]
     },
     "metadata": {
      "needs_background": "light"
     },
     "output_type": "display_data"
    }
   ],
   "source": [
    "confusion_mat= plot_confusion_matrix(yy_test, yy_pred1, classes=[0,1], title='Confusion matrix - Bonn Database')"
   ]
  },
  {
   "cell_type": "code",
   "execution_count": 24,
   "metadata": {},
   "outputs": [
    {
     "name": "stdout",
     "output_type": "stream",
     "text": [
      "                precision    recall  f1-score   support\n",
      "\n",
      "Non-Seizure(0)       1.00      1.00      1.00        19\n",
      "    Seizure(1)       1.00      1.00      1.00        21\n",
      "\n",
      "      accuracy                           1.00        40\n",
      "     macro avg       1.00      1.00      1.00        40\n",
      "  weighted avg       1.00      1.00      1.00        40\n",
      "\n"
     ]
    }
   ],
   "source": [
    "from sklearn.metrics import classification_report\n",
    "print(classification_report(yy_test,yy_pred1,target_names = ['Non-Seizure(0)', 'Seizure(1)']))"
   ]
  },
  {
   "cell_type": "code",
   "execution_count": 26,
   "metadata": {
    "collapsed": true
   },
   "outputs": [],
   "source": [
    "# generate CHBMIT seziure samples \n",
    "path='/home/ad930/datasetsv4/'\n",
    "dr='non_seizures'\n",
    "nfilenames=[]\n",
    "end='/*.csv'\n",
    "nfilenames=glob.glob(path + dr + end)\n",
    "shuffle(nfilenames)\n",
    "\n",
    "def generate_chbmit_datasets(filenames):\n",
    "    counter=0\n",
    "    oldFS=256\n",
    "    newFS=173.61\n",
    "    flag=0\n",
    "    arry=[]    \n",
    "    for files in filenames:\n",
    "        if counter == 169:\n",
    "            break\n",
    "        df=pd.read_csv(files)\n",
    "        if '\\'F3-C3\\'' in df:\n",
    "            #df = df[\"'F3-C3'\"]\n",
    "            df = df[['\\'F3-C3\\'']]\n",
    "            if df.shape[0] == 6041:\n",
    "                newNumSamples = mp.ceil((df.shape[0] / oldFS) * newFS)\n",
    "                flag=1\n",
    "            if df.shape[0] == 6042:\n",
    "                newNumSamples = mp.floor((df.shape[0] / oldFS) * newFS)\n",
    "                flag=1\n",
    "            if flag==1:\n",
    "                newData = pd.DataFrame(resample(df, newNumSamples))\n",
    "                arry.append(np.array(newData,dtype=\"float32\"))\n",
    "            counter=counter+1\n",
    "    return np.array(arry) "
   ]
  },
  {
   "cell_type": "code",
   "execution_count": 27,
   "metadata": {},
   "outputs": [
    {
     "data": {
      "text/plain": [
       "(169, 4097, 1)"
      ]
     },
     "execution_count": 27,
     "metadata": {},
     "output_type": "execute_result"
    }
   ],
   "source": [
    "chb_sez_signals_n1=generate_chbmit_datasets(nfilenames)\n",
    "chb_sez_signals_n1.shape"
   ]
  },
  {
   "cell_type": "code",
   "execution_count": 28,
   "metadata": {
    "collapsed": true
   },
   "outputs": [],
   "source": [
    "X = chb_sez_signals_n1\n",
    "XC=X\n",
    "X1=X.reshape(len(X)*4097,order='F')\n",
    "X2=X1.reshape(4097,len(X))\n",
    "\n",
    "X2=scaler.fit_transform(X2)    #normalize(X2,axis=1)\n",
    "\n",
    "X3=np.reshape(X2,4097*len(X),order='F')\n",
    "X4=X3.reshape(len(X),4097,1)\n",
    "X=X4\n",
    "chb_sez_signals_n1 = X"
   ]
  },
  {
   "cell_type": "code",
   "execution_count": 29,
   "metadata": {
    "collapsed": true
   },
   "outputs": [],
   "source": [
    "# generate CHBMIT seziure samples \n",
    "path='/home/ad930/datasetsv4/'\n",
    "dr='seizures'\n",
    "sfilenames=[]\n",
    "end='/*.csv'\n",
    "sfilenames=glob.glob(path + dr + end)\n",
    "\n",
    "\n",
    "def generate_chbmit_datasets(filenames):\n",
    "    counter=0\n",
    "    oldFS=256\n",
    "    newFS=173.61\n",
    "    flag=0\n",
    "    arry=[]    \n",
    "    for files in filenames:\n",
    "        df=pd.read_csv(files)\n",
    "        if '\\'F3-C3\\'' in df:\n",
    "            #df = df[\"'F3-C3'\"]\n",
    "            df = df[['\\'F3-C3\\'']]\n",
    "            if df.shape[0] == 6041:\n",
    "                newNumSamples = mp.ceil((df.shape[0] / oldFS) * newFS)\n",
    "                flag=1\n",
    "            if df.shape[0] == 6042:\n",
    "                newNumSamples = mp.floor((df.shape[0] / oldFS) * newFS)\n",
    "                flag=1\n",
    "            if flag==1:\n",
    "                newData = pd.DataFrame(resample(df, newNumSamples))\n",
    "                arry.append(np.array(newData,dtype=\"float32\"))\n",
    "            counter=counter+1\n",
    "    return np.array(arry) "
   ]
  },
  {
   "cell_type": "code",
   "execution_count": 30,
   "metadata": {},
   "outputs": [
    {
     "data": {
      "text/plain": [
       "(169, 4097, 1)"
      ]
     },
     "execution_count": 30,
     "metadata": {},
     "output_type": "execute_result"
    }
   ],
   "source": [
    "chb_sez_signals=generate_chbmit_datasets(sfilenames)\n",
    "chb_sez_signals.shape"
   ]
  },
  {
   "cell_type": "code",
   "execution_count": 31,
   "metadata": {},
   "outputs": [],
   "source": [
    "X = chb_sez_signals\n",
    "XC=X\n",
    "X1=X.reshape(len(X)*4097,order='F')\n",
    "X2=X1.reshape(4097,len(X))\n",
    "\n",
    "X2=scaler.fit_transform(X2)    #normalize(X2,axis=1)\n",
    "\n",
    "X3=np.reshape(X2,4097*len(X),order='F')\n",
    "X4=X3.reshape(len(X),4097,1)\n",
    "X=X4\n",
    "chb_sez_signals = X"
   ]
  },
  {
   "cell_type": "code",
   "execution_count": 32,
   "metadata": {},
   "outputs": [
    {
     "data": {
      "text/plain": [
       "(338, 4097, 1)"
      ]
     },
     "execution_count": 32,
     "metadata": {},
     "output_type": "execute_result"
    }
   ],
   "source": [
    "x_tst = np.append(chb_sez_signals,chb_sez_signals_n1, axis=0)  # 1,0\n",
    "x_tst.shape"
   ]
  },
  {
   "cell_type": "code",
   "execution_count": 33,
   "metadata": {},
   "outputs": [
    {
     "data": {
      "text/plain": [
       "(338,)"
      ]
     },
     "execution_count": 33,
     "metadata": {},
     "output_type": "execute_result"
    }
   ],
   "source": [
    "y_ones = np.ones((169,),dtype='int64')\n",
    "y_zero = np.zeros((169,),dtype='int64')\n",
    "y_tst = np.append(y_ones, y_zero, axis=0)\n",
    "y_tst.shape"
   ]
  },
  {
   "cell_type": "code",
   "execution_count": 34,
   "metadata": {},
   "outputs": [
    {
     "name": "stdout",
     "output_type": "stream",
     "text": [
      "Test loss: 334.50156850065247\n",
      "Test accuracy: 50.0\n"
     ]
    }
   ],
   "source": [
    "# evaluate the model\n",
    "score = cnn.evaluate(x_tst, y_tst, verbose=0)\n",
    "print('Test loss:', score[0]*100)\n",
    "print('Test accuracy:', score[1]*100)"
   ]
  },
  {
   "cell_type": "code",
   "execution_count": 35,
   "metadata": {},
   "outputs": [
    {
     "name": "stdout",
     "output_type": "stream",
     "text": [
      "338/338 [==============================] - 0s 300us/sample\n"
     ]
    }
   ],
   "source": [
    "yy_pred=cnn.predict(x=x_tst, verbose=1)"
   ]
  },
  {
   "cell_type": "code",
   "execution_count": 36,
   "metadata": {
    "collapsed": true
   },
   "outputs": [],
   "source": [
    "yy_pred1 = np.argmax(yy_pred, axis=1)"
   ]
  },
  {
   "cell_type": "code",
   "execution_count": 37,
   "metadata": {},
   "outputs": [
    {
     "name": "stdout",
     "output_type": "stream",
     "text": [
      "50.0\n"
     ]
    }
   ],
   "source": [
    "accuracy = accuracy_score(y_tst, yy_pred1)\n",
    "print(accuracy*100)"
   ]
  },
  {
   "cell_type": "code",
   "execution_count": 38,
   "metadata": {},
   "outputs": [
    {
     "name": "stdout",
     "output_type": "stream",
     "text": [
      "[[169   0]\n",
      " [169   0]]\n"
     ]
    },
    {
     "data": {
      "image/png": "[encoded data removed]",
      "text/plain": [
       "<Figure size 432x288 with 2 Axes>"
      ]
     },
     "metadata": {
      "needs_background": "light"
     },
     "output_type": "display_data"
    }
   ],
   "source": [
    "confusion_mat= plot_confusion_matrix(y_tst, yy_pred1, classes=[0,1], title='Confusion matrix - Bonn Database')"
   ]
  },
  {
   "cell_type": "code",
   "execution_count": 39,
   "metadata": {},
   "outputs": [
    {
     "name": "stdout",
     "output_type": "stream",
     "text": [
      "                precision    recall  f1-score   support\n",
      "\n",
      "Non-Seizure(0)       0.50      1.00      0.67       169\n",
      "    Seizure(1)       0.00      0.00      0.00       169\n",
      "\n",
      "      accuracy                           0.50       338\n",
      "     macro avg       0.25      0.50      0.33       338\n",
      "  weighted avg       0.25      0.50      0.33       338\n",
      "\n"
     ]
    },
    {
     "name": "stderr",
     "output_type": "stream",
     "text": [
      "/home/ad930/anaconda3/lib/python3.5/site-packages/sklearn/metrics/classification.py:1437: UndefinedMetricWarning: Precision and F-score are ill-defined and being set to 0.0 in labels with no predicted samples.\n",
      "  'precision', 'predicted', average, warn_for)\n"
     ]
    }
   ],
   "source": [
    "from sklearn.metrics import classification_report\n",
    "print(classification_report(y_tst,yy_pred1,target_names = ['Non-Seizure(0)', 'Seizure(1)']))"
   ]
  },
  {
   "cell_type": "code",
   "execution_count": 40,
   "metadata": {
    "collapsed": true
   },
   "outputs": [],
   "source": [
    "path='/home/ad930/bonn_eeg_cnn/'\n",
    "dr='S'\n",
    "sfilenames=[]\n",
    "end='/*.txt'\n",
    "sfilenames=glob.glob(path + dr + end)\n",
    "import numpy as np\n",
    "import pandas as pd\n",
    "\n",
    "def generate_datasets(filenames):\n",
    "    arry=[]    \n",
    "    for files in filenames:\n",
    "        df=pd.read_table(files,names=\"X\")\n",
    "        arry.append(np.array(df,dtype=\"float32\"))\n",
    "    return np.array(arry) "
   ]
  },
  {
   "cell_type": "code",
   "execution_count": 41,
   "metadata": {},
   "outputs": [
    {
     "data": {
      "text/plain": [
       "(100, 4097, 1)"
      ]
     },
     "execution_count": 41,
     "metadata": {},
     "output_type": "execute_result"
    }
   ],
   "source": [
    "signals = generate_datasets(sfilenames)\n",
    "signals.shape"
   ]
  },
  {
   "cell_type": "code",
   "execution_count": 42,
   "metadata": {
    "collapsed": true
   },
   "outputs": [],
   "source": [
    "X = signals\n",
    "XC=X\n",
    "X1=X.reshape(len(X)*4097,order='F')\n",
    "X2=X1.reshape(4097,len(X))\n",
    "\n",
    "X2=scaler.fit_transform(X2)  #normalize(X2,axis=1)\n",
    "\n",
    "X3=np.reshape(X2,4097*len(X),order='F')\n",
    "X4=X3.reshape(len(X),4097,1)\n",
    "X=X4\n",
    "signals = X"
   ]
  },
  {
   "cell_type": "code",
   "execution_count": 43,
   "metadata": {
    "collapsed": true
   },
   "outputs": [],
   "source": [
    "path='/home/ad930/bonn_eeg_cnn/'\n",
    "dr='Z'\n",
    "nfilenames=[]\n",
    "end='/*.txt'\n",
    "nfilenames=glob.glob(path + dr + end)\n",
    "import numpy as np\n",
    "import pandas as pd\n",
    "\n",
    "def generate_datasets(filenames):\n",
    "    arry=[]    \n",
    "    for files in filenames:\n",
    "        df=pd.read_table(files,names=\"X\")\n",
    "        arry.append(np.array(df,dtype=\"float32\"))\n",
    "    return np.array(arry) "
   ]
  },
  {
   "cell_type": "code",
   "execution_count": 44,
   "metadata": {},
   "outputs": [
    {
     "data": {
      "text/plain": [
       "(100, 4097, 1)"
      ]
     },
     "execution_count": 44,
     "metadata": {},
     "output_type": "execute_result"
    }
   ],
   "source": [
    "n_signals = generate_datasets(nfilenames)\n",
    "n_signals.shape"
   ]
  },
  {
   "cell_type": "code",
   "execution_count": 45,
   "metadata": {
    "collapsed": true
   },
   "outputs": [],
   "source": [
    "X = n_signals\n",
    "XC=X\n",
    "X1=X.reshape(len(X)*4097,order='F')\n",
    "X2=X1.reshape(4097,len(X))\n",
    "\n",
    "X2=scaler.fit_transform(X2)  #normalize(X2,axis=1)\n",
    "\n",
    "X3=np.reshape(X2,4097*len(X),order='F')\n",
    "X4=X3.reshape(len(X),4097,1)\n",
    "X=X4\n",
    "n_signals = X"
   ]
  },
  {
   "cell_type": "code",
   "execution_count": 46,
   "metadata": {},
   "outputs": [
    {
     "data": {
      "text/plain": [
       "(200, 4097, 1)"
      ]
     },
     "execution_count": 46,
     "metadata": {},
     "output_type": "execute_result"
    }
   ],
   "source": [
    "x_tst = np.append(signals,n_signals, axis=0)  # 1,0\n",
    "x_tst.shape"
   ]
  },
  {
   "cell_type": "code",
   "execution_count": 47,
   "metadata": {},
   "outputs": [
    {
     "data": {
      "text/plain": [
       "(200,)"
      ]
     },
     "execution_count": 47,
     "metadata": {},
     "output_type": "execute_result"
    }
   ],
   "source": [
    "y_ones = np.ones((100,),dtype='int64')\n",
    "y_zero = np.zeros((100,),dtype='int64')\n",
    "y_tst = np.append(y_ones, y_zero, axis=0)\n",
    "y_tst.shape"
   ]
  },
  {
   "cell_type": "code",
   "execution_count": 48,
   "metadata": {},
   "outputs": [
    {
     "name": "stdout",
     "output_type": "stream",
     "text": [
      "Test loss: 380.1202237275429\n",
      "Test accuracy: 50.0\n"
     ]
    }
   ],
   "source": [
    "# evaluate the model\n",
    "score = cnn.evaluate(x_tst, y_tst, verbose=0)\n",
    "print('Test loss:', score[0]*100)\n",
    "print('Test accuracy:', score[1]*100)"
   ]
  },
  {
   "cell_type": "code",
   "execution_count": 49,
   "metadata": {},
   "outputs": [
    {
     "name": "stdout",
     "output_type": "stream",
     "text": [
      "200/200 [==============================] - 0s 83us/sample\n"
     ]
    }
   ],
   "source": [
    "yy_pred=cnn.predict(x=x_tst, verbose=1)"
   ]
  },
  {
   "cell_type": "code",
   "execution_count": 50,
   "metadata": {
    "collapsed": true
   },
   "outputs": [],
   "source": [
    "yy_pred1 = np.argmax(yy_pred, axis=1)"
   ]
  },
  {
   "cell_type": "code",
   "execution_count": 51,
   "metadata": {},
   "outputs": [
    {
     "name": "stdout",
     "output_type": "stream",
     "text": [
      "50.0\n"
     ]
    }
   ],
   "source": [
    "accuracy = accuracy_score(y_tst, yy_pred1)\n",
    "print(accuracy*100)"
   ]
  },
  {
   "cell_type": "code",
   "execution_count": 52,
   "metadata": {},
   "outputs": [
    {
     "name": "stdout",
     "output_type": "stream",
     "text": [
      "[[100   0]\n",
      " [100   0]]\n"
     ]
    },
    {
     "data": {
      "image/png": "[encoded data removed]",
      "text/plain": [
       "<Figure size 432x288 with 2 Axes>"
      ]
     },
     "metadata": {
      "needs_background": "light"
     },
     "output_type": "display_data"
    }
   ],
   "source": [
    "confusion_mat= plot_confusion_matrix(y_tst, yy_pred1, classes=[0,1], title='Confusion matrix - Bonn Database')"
   ]
  },
  {
   "cell_type": "code",
   "execution_count": 53,
   "metadata": {},
   "outputs": [
    {
     "name": "stdout",
     "output_type": "stream",
     "text": [
      "                precision    recall  f1-score   support\n",
      "\n",
      "Non-Seizure(0)       0.50      1.00      0.67       100\n",
      "    Seizure(1)       0.00      0.00      0.00       100\n",
      "\n",
      "      accuracy                           0.50       200\n",
      "     macro avg       0.25      0.50      0.33       200\n",
      "  weighted avg       0.25      0.50      0.33       200\n",
      "\n"
     ]
    },
    {
     "name": "stderr",
     "output_type": "stream",
     "text": [
      "/home/ad930/anaconda3/lib/python3.5/site-packages/sklearn/metrics/classification.py:1437: UndefinedMetricWarning: Precision and F-score are ill-defined and being set to 0.0 in labels with no predicted samples.\n",
      "  'precision', 'predicted', average, warn_for)\n"
     ]
    }
   ],
   "source": [
    "from sklearn.metrics import classification_report\n",
    "print(classification_report(y_tst,yy_pred1,target_names = ['Non-Seizure(0)', 'Seizure(1)']))"
   ]
  }
 ],
 "metadata": {
  "anaconda-cloud": {},
  "kernelspec": {
   "display_name": "Python 3",
   "language": "python",
   "name": "python3"
  },
  "language_info": {
   "codemirror_mode": {
    "name": "ipython",
    "version": 3
   },
   "file_extension": ".py",
   "mimetype": "text/x-python",
   "name": "python",
   "nbconvert_exporter": "python",
   "pygments_lexer": "ipython3",
   "version": "3.7.3"
  }
 },
 "nbformat": 4,
 "nbformat_minor": 2
}
