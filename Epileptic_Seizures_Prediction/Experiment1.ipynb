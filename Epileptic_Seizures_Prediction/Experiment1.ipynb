{
 "cells": [
  {
   "cell_type": "code",
   "execution_count": 1,
   "metadata": {
    "scrolled": true
   },
   "outputs": [],
   "source": [
    "import os\n",
    "import numpy as np\n",
    "import glob\n",
    "import pandas as pd  \n",
    "#from keras import utils as np_utils\n",
    "import random\n",
    "import math as mp\n",
    "\n",
    "from sklearn.preprocessing import StandardScaler\n",
    "from sklearn.model_selection import train_test_split\n",
    "from sklearn.metrics import accuracy_score\n",
    "from sklearn.metrics import confusion_matrix\n",
    "\n",
    "import tensorflow as tf\n",
    "from tensorflow.keras import layers, models\n",
    "\n",
    "%matplotlib inline\n",
    "import matplotlib.pyplot as plt"
   ]
  },
  {
   "cell_type": "code",
   "execution_count": null,
   "metadata": {
    "collapsed": true
   },
   "outputs": [],
   "source": [
    "scaler=StandardScaler()"
   ]
  },
  {
   "cell_type": "code",
   "execution_count": null,
   "metadata": {
    "collapsed": true
   },
   "outputs": [],
   "source": [
    "#Obtain all non-seizure signals from the drive (BONN dataset)\n",
    "path='D:/'\n",
    "#letter=['F','N','O','Z']  <- contain all non-seizure signals \n",
    "letter=['Z']\n",
    "nfilenames=[]\n",
    "end=''\n",
    "for dr in letter:\n",
    "    if dr=='N':\n",
    "        end='/*.TXT'\n",
    "    else:\n",
    "        end='/*.txt' \n",
    "    nfilenames=nfilenames+glob.glob(path + dr + end) "
   ]
  },
  {
   "cell_type": "code",
   "execution_count": null,
   "metadata": {
    "collapsed": true
   },
   "outputs": [],
   "source": [
    "len(nfilenames)  # check to see if all signals are read"
   ]
  },
  {
   "cell_type": "code",
   "execution_count": null,
   "metadata": {
    "collapsed": true
   },
   "outputs": [],
   "source": [
    "#Obtain all seizure signals from the drive (BONN dataset)\n",
    "dr='S'\n",
    "sfilenames=[]\n",
    "end='/*.txt'\n",
    "sfilenames=glob.glob(path + dr + end)"
   ]
  },
  {
   "cell_type": "code",
   "execution_count": null,
   "metadata": {
    "collapsed": true
   },
   "outputs": [],
   "source": [
    "len(sfilenames) # check to see if all signals are read"
   ]
  },
  {
   "cell_type": "code",
   "execution_count": null,
   "metadata": {
    "collapsed": true
   },
   "outputs": [],
   "source": [
    "#convert into array\n",
    "def generate_datasets(filenames):\n",
    "    arry=[]    \n",
    "    for files in filenames:\n",
    "        df=pd.read_table(files,names=\"X\")\n",
    "        arry.append(np.array(df))\n",
    "    return np.array(arry)    "
   ]
  },
  {
   "cell_type": "code",
   "execution_count": null,
   "metadata": {
    "collapsed": true
   },
   "outputs": [],
   "source": [
    "sample_non_seizure = generate_datasets(nfilenames)"
   ]
  },
  {
   "cell_type": "code",
   "execution_count": null,
   "metadata": {
    "collapsed": true
   },
   "outputs": [],
   "source": [
    "sample_seizure = generate_datasets(sfilenames)"
   ]
  },
  {
   "cell_type": "code",
   "execution_count": null,
   "metadata": {
    "collapsed": true
   },
   "outputs": [],
   "source": [
    "# normalisation of non-seizure signals\n",
    "X = sample_non_seizure\n",
    "XC=X\n",
    "X1=X.reshape(len(X)*4097,order='F')\n",
    "X2=X1.reshape(4097,len(X))\n",
    "\n",
    "X2=normalize(X2,axis=1)\n",
    "\n",
    "X3=np.reshape(X2,4097*len(X),order='F')\n",
    "X4=X3.reshape(len(X),4097,1)\n",
    "X=X4\n",
    "sample_non_seizure = X"
   ]
  },
  {
   "cell_type": "code",
   "execution_count": null,
   "metadata": {
    "collapsed": true
   },
   "outputs": [],
   "source": [
    "# normalisation of seizure signals\n",
    "X = sample_seizure\n",
    "XC=X\n",
    "X1=X.reshape(len(X)*4097,order='F')\n",
    "X2=X1.reshape(4097,len(X))\n",
    "\n",
    "X2=normalize(X2,axis=1)\n",
    "\n",
    "X3=np.reshape(X2,4097*len(X),order='F')\n",
    "X4=X3.reshape(len(X),4097,1)\n",
    "X=X4\n",
    "sample_seizure = X"
   ]
  },
  {
   "cell_type": "code",
   "execution_count": null,
   "metadata": {
    "collapsed": true
   },
   "outputs": [],
   "source": [
    "# concate non-seizure and seizure signals\n",
    "X = np.append(sample_non_seizure,sample_seizure, axis = 0)"
   ]
  },
  {
   "cell_type": "code",
   "execution_count": null,
   "metadata": {
    "collapsed": true
   },
   "outputs": [],
   "source": [
    "X.shape"
   ]
  },
  {
   "cell_type": "code",
   "execution_count": null,
   "metadata": {
    "collapsed": true
   },
   "outputs": [],
   "source": [
    "# generate labels, 0 for non-seizure, 1 for seizure\n",
    "def generate_labels(cutoff,ln):\n",
    "    arry=[]\n",
    "    for i in range(0,ln):\n",
    "        if i>=cutoff:\n",
    "            arry.append(1)  # seizure\n",
    "        else:\n",
    "            arry.append(0)  # non-seizure\n",
    "    return np.array(arry,dtype='int64')"
   ]
  },
  {
   "cell_type": "code",
   "execution_count": null,
   "metadata": {
    "collapsed": true
   },
   "outputs": [],
   "source": [
    "yy=generate_labels(100,200)"
   ]
  },
  {
   "cell_type": "code",
   "execution_count": 20,
   "metadata": {},
   "outputs": [
    {
     "data": {
      "text/plain": [
       "(200,)"
      ]
     },
     "execution_count": 20,
     "metadata": {},
     "output_type": "execute_result"
    }
   ],
   "source": [
    "yy.shape"
   ]
  },
  {
   "cell_type": "code",
   "execution_count": 21,
   "metadata": {},
   "outputs": [
    {
     "data": {
      "text/plain": [
       "\"\\nXC=X\\nX1=X.reshape(len(X)*4097,order='F')\\nX2=X1.reshape(4097,len(X))\\n\\nX2=normalize(X2,axis=1)\\n\\nX3=np.reshape(X2,4097*len(X),order='F')\\nX4=X3.reshape(len(y),4097,1)\\nX=X4\\n\\n#def normalise_data(data_set):\\n#    arry=[]\\n#    for i in data_set:\\n#        arry.append(normalize(i,axis=0))\\n#    return np.array(arry)\\n\""
      ]
     },
     "execution_count": 21,
     "metadata": {},
     "output_type": "execute_result"
    }
   ],
   "source": [
    "# Apply Z-score normalisation\n",
    "# axis=0 is column wise, axis=1 is row wise\n",
    "'''\n",
    "XC=X\n",
    "X1=X.reshape(len(X)*4097,order='F')\n",
    "X2=X1.reshape(4097,len(X))\n",
    "\n",
    "X2=normalize(X2,axis=1)\n",
    "\n",
    "X3=np.reshape(X2,4097*len(X),order='F')\n",
    "X4=X3.reshape(len(y),4097,1)\n",
    "X=X4\n",
    "\n",
    "#def normalise_data(data_set):\n",
    "#    arry=[]\n",
    "#    for i in data_set:\n",
    "#        arry.append(normalize(i,axis=0))\n",
    "#    return np.array(arry)\n",
    "'''"
   ]
  },
  {
   "cell_type": "code",
   "execution_count": 22,
   "metadata": {},
   "outputs": [
    {
     "data": {
      "text/plain": [
       "(200, 4097, 1)"
      ]
     },
     "execution_count": 22,
     "metadata": {},
     "output_type": "execute_result"
    }
   ],
   "source": [
    "#X=normalise_data(X)\n",
    "X.shape"
   ]
  },
  {
   "cell_type": "code",
   "execution_count": 23,
   "metadata": {
    "collapsed": true
   },
   "outputs": [],
   "source": [
    "def plot_eeg_signal(sig,lab,cnt):\n",
    "    flag=True\n",
    "    \n",
    "    i=0\n",
    "    for X,y in zip(sig,lab):\n",
    "        if i<cnt and y==0:\n",
    "            plt.figure(i,figsize=(30,5))\n",
    "            plt.plot(X,'b')\n",
    "            plt.title('Non Seizure EEG Signal')\n",
    "            i=i+1\n",
    "        if i==cnt:\n",
    "            break\n",
    "   \n",
    "    j=i\n",
    "    i=0\n",
    "    for X,y in zip(sig,lab):\n",
    "        if i<cnt and y==1:\n",
    "            plt.figure(i+j,figsize=(30,5))\n",
    "            plt.plot(X,'r')\n",
    "            plt.title('Seizure EEG Signal')\n",
    "            i=i+1\n",
    "        if i==cnt:\n",
    "            break\n",
    "    "
   ]
  },
  {
   "cell_type": "code",
   "execution_count": 24,
   "metadata": {
    "collapsed": true,
    "scrolled": false
   },
   "outputs": [],
   "source": [
    "#plot_eeg_signal(X,y,5)"
   ]
  },
  {
   "cell_type": "code",
   "execution_count": 25,
   "metadata": {
    "collapsed": true
   },
   "outputs": [],
   "source": [
    "#y = tf.keras.utils.to_categorical(y, num_classes=2)"
   ]
  },
  {
   "cell_type": "code",
   "execution_count": 26,
   "metadata": {
    "collapsed": true
   },
   "outputs": [],
   "source": [
    "#y.shape"
   ]
  },
  {
   "cell_type": "code",
   "execution_count": 27,
   "metadata": {
    "collapsed": true
   },
   "outputs": [],
   "source": [
    "# Initialising the CNN\n",
    "cnn = tf.keras.Sequential()\n",
    "\n",
    "# First Convolution Layer\n",
    "cnn.add(layers.Conv1D(4, 6, input_shape = (4097, 1), activation='relu'))\n",
    "#cnn.add(layers.LeakyReLU(alpha=0.05))  \n",
    "#cnn.add(layers.BatchNormalization())\n",
    "cnn.add(layers.MaxPooling1D(pool_size = 2, strides = 2))\n",
    "#cnn.add(Dropout(0.25))\n",
    "\n",
    "# Adding a second convolutional layer\n",
    "cnn.add(layers.Conv1D(4, 5,activation='relu'))  #number of output filters, kernel size\n",
    "#cnn.add(layers.LeakyReLU(alpha=0.05)) \n",
    "cnn.add(layers.MaxPooling1D(pool_size = 2, strides = 2))\n",
    "#cnn.add(Dropout(0.25))\n",
    "\n",
    "# Adding a third convolutional layer\n",
    "cnn.add(layers.Conv1D(10, 4, activation='relu' ))\n",
    "#cnn.add(layers.LeakyReLU(alpha=0.05)) \n",
    "cnn.add(layers.MaxPooling1D(pool_size = 2, strides = 2))\n",
    "#cnn.add(Dropout(0.4))\n",
    "\n",
    "# Adding a fourth convolutional layer\n",
    "cnn.add(layers.Conv1D(10, 4, activation='relu' ))\n",
    "#cnn.add(layers.LeakyReLU(alpha=0.05)) \n",
    "cnn.add(layers.MaxPooling1D(pool_size = 2, strides = 2))\n",
    "#cnn.add(Dropout(0.4))\n",
    "\n",
    "# Adding a fifth convolutional layer\n",
    "cnn.add(layers.Conv1D(15, 4, activation='relu' ))\n",
    "#cnn.add(layers.LeakyReLU(alpha=0.05)) \n",
    "cnn.add(layers.MaxPooling1D(pool_size = 2, strides = 2))\n",
    "#cnn.add(Dropout(0.4))\n",
    "\n",
    "# Step 3 - Flattening\n",
    "cnn.add(layers.Flatten())\n",
    "\n",
    "# Step 4 - Full connection\n",
    "cnn.add(layers.Dense(units = 50, activation='relu'))\n",
    "#cnn.add(layers.LeakyReLU(alpha=0.05)) \n",
    "#cnn.add(layers.Dropout(0.1))\n",
    "cnn.add(layers.Dense(units = 20, activation='relu'))\n",
    "#cnn.add(layers.LeakyReLU(alpha=0.05))\n",
    "cnn.add(layers.Dense(units = 2, activation = 'softmax'))\n",
    "\n",
    "\n",
    "# Compiling the CNN\n",
    "cnn.compile(optimizer = tf.keras.optimizers.SGD(lr=0.01,momentum=0.3, decay=0.01), loss = 'sparse_categorical_crossentropy', metrics = ['accuracy'])"
   ]
  },
  {
   "cell_type": "code",
   "execution_count": 28,
   "metadata": {},
   "outputs": [
    {
     "name": "stdout",
     "output_type": "stream",
     "text": [
      "Model: \"sequential\"\n",
      "_________________________________________________________________\n",
      "Layer (type)                 Output Shape              Param #   \n",
      "=================================================================\n",
      "conv1d (Conv1D)              (None, 4092, 4)           28        \n",
      "_________________________________________________________________\n",
      "max_pooling1d (MaxPooling1D) (None, 2046, 4)           0         \n",
      "_________________________________________________________________\n",
      "conv1d_1 (Conv1D)            (None, 2042, 4)           84        \n",
      "_________________________________________________________________\n",
      "max_pooling1d_1 (MaxPooling1 (None, 1021, 4)           0         \n",
      "_________________________________________________________________\n",
      "conv1d_2 (Conv1D)            (None, 1018, 10)          170       \n",
      "_________________________________________________________________\n",
      "max_pooling1d_2 (MaxPooling1 (None, 509, 10)           0         \n",
      "_________________________________________________________________\n",
      "conv1d_3 (Conv1D)            (None, 506, 10)           410       \n",
      "_________________________________________________________________\n",
      "max_pooling1d_3 (MaxPooling1 (None, 253, 10)           0         \n",
      "_________________________________________________________________\n",
      "conv1d_4 (Conv1D)            (None, 250, 15)           615       \n",
      "_________________________________________________________________\n",
      "max_pooling1d_4 (MaxPooling1 (None, 125, 15)           0         \n",
      "_________________________________________________________________\n",
      "flatten (Flatten)            (None, 1875)              0         \n",
      "_________________________________________________________________\n",
      "dense (Dense)                (None, 50)                93800     \n",
      "_________________________________________________________________\n",
      "dense_1 (Dense)              (None, 20)                1020      \n",
      "_________________________________________________________________\n",
      "dense_2 (Dense)              (None, 2)                 42        \n",
      "=================================================================\n",
      "Total params: 96,169\n",
      "Trainable params: 96,169\n",
      "Non-trainable params: 0\n",
      "_________________________________________________________________\n"
     ]
    }
   ],
   "source": [
    "cnn.summary()"
   ]
  },
  {
   "cell_type": "code",
   "execution_count": 29,
   "metadata": {
    "collapsed": true
   },
   "outputs": [],
   "source": [
    "Xx_train, Xx_test, yy_train, yy_test = train_test_split(X, yy, test_size=0.20, random_state=42)"
   ]
  },
  {
   "cell_type": "code",
   "execution_count": 30,
   "metadata": {},
   "outputs": [
    {
     "data": {
      "text/plain": [
       "(160, 4097, 1)"
      ]
     },
     "execution_count": 30,
     "metadata": {},
     "output_type": "execute_result"
    }
   ],
   "source": [
    "Xx_train.shape"
   ]
  },
  {
   "cell_type": "code",
   "execution_count": 31,
   "metadata": {},
   "outputs": [
    {
     "data": {
      "text/plain": [
       "(160,)"
      ]
     },
     "execution_count": 31,
     "metadata": {},
     "output_type": "execute_result"
    }
   ],
   "source": [
    "yy_train.shape"
   ]
  },
  {
   "cell_type": "code",
   "execution_count": 32,
   "metadata": {},
   "outputs": [
    {
     "data": {
      "text/plain": [
       "(40, 4097, 1)"
      ]
     },
     "execution_count": 32,
     "metadata": {},
     "output_type": "execute_result"
    }
   ],
   "source": [
    "Xx_test.shape"
   ]
  },
  {
   "cell_type": "code",
   "execution_count": 33,
   "metadata": {},
   "outputs": [
    {
     "data": {
      "text/plain": [
       "(40,)"
      ]
     },
     "execution_count": 33,
     "metadata": {},
     "output_type": "execute_result"
    }
   ],
   "source": [
    "yy_test.shape"
   ]
  },
  {
   "cell_type": "code",
   "execution_count": 34,
   "metadata": {
    "scrolled": true
   },
   "outputs": [
    {
     "name": "stderr",
     "output_type": "stream",
     "text": [
      "WARNING: Logging before flag parsing goes to stderr.\n",
      "W0619 22:59:48.792821 139747892745984 deprecation.py:323] From /home/ad930/anaconda3/lib/python3.5/site-packages/tensorflow/python/ops/math_grad.py:1250: add_dispatch_support.<locals>.wrapper (from tensorflow.python.ops.array_ops) is deprecated and will be removed in a future version.\n",
      "Instructions for updating:\n",
      "Use tf.where in 2.0, which has the same broadcast rule as np.where\n"
     ]
    },
    {
     "name": "stdout",
     "output_type": "stream",
     "text": [
      "Train on 160 samples, validate on 40 samples\n",
      "Epoch 1/100\n",
      "160/160 [==============================] - 12s 78ms/sample - loss: 0.6954 - accuracy: 0.5437 - val_loss: 0.6963 - val_accuracy: 0.4250\n",
      "Epoch 2/100\n",
      "160/160 [==============================] - 1s 4ms/sample - loss: 0.6806 - accuracy: 0.6000 - val_loss: 0.6910 - val_accuracy: 0.5000\n",
      "Epoch 3/100\n",
      "160/160 [==============================] - 1s 4ms/sample - loss: 0.6615 - accuracy: 0.7188 - val_loss: 0.6816 - val_accuracy: 0.5250\n",
      "Epoch 4/100\n",
      "160/160 [==============================] - 1s 4ms/sample - loss: 0.6389 - accuracy: 0.7375 - val_loss: 0.6604 - val_accuracy: 0.7000\n",
      "Epoch 5/100\n",
      "160/160 [==============================] - 1s 4ms/sample - loss: 0.6064 - accuracy: 0.7625 - val_loss: 0.6308 - val_accuracy: 0.6750\n",
      "Epoch 6/100\n",
      "160/160 [==============================] - 1s 4ms/sample - loss: 0.5561 - accuracy: 0.8562 - val_loss: 0.6006 - val_accuracy: 0.7500\n",
      "Epoch 7/100\n",
      "160/160 [==============================] - 1s 5ms/sample - loss: 0.4842 - accuracy: 0.8500 - val_loss: 0.6119 - val_accuracy: 0.6500\n",
      "Epoch 8/100\n",
      "160/160 [==============================] - 1s 4ms/sample - loss: 0.4346 - accuracy: 0.8687 - val_loss: 0.5421 - val_accuracy: 0.6000\n",
      "Epoch 9/100\n",
      "160/160 [==============================] - 1s 4ms/sample - loss: 0.3569 - accuracy: 0.8938 - val_loss: 0.4587 - val_accuracy: 0.7000\n",
      "Epoch 10/100\n",
      "160/160 [==============================] - 1s 5ms/sample - loss: 0.3256 - accuracy: 0.9062 - val_loss: 0.3927 - val_accuracy: 0.8750\n",
      "Epoch 11/100\n",
      "160/160 [==============================] - 1s 4ms/sample - loss: 0.2744 - accuracy: 0.9312 - val_loss: 0.4362 - val_accuracy: 0.8000\n",
      "Epoch 12/100\n",
      "160/160 [==============================] - 1s 4ms/sample - loss: 0.2593 - accuracy: 0.9125 - val_loss: 0.4061 - val_accuracy: 0.8000\n",
      "Epoch 13/100\n",
      "160/160 [==============================] - 1s 4ms/sample - loss: 0.2230 - accuracy: 0.9375 - val_loss: 0.6027 - val_accuracy: 0.6000\n",
      "Epoch 14/100\n",
      "160/160 [==============================] - 1s 4ms/sample - loss: 0.1807 - accuracy: 0.9500 - val_loss: 0.2619 - val_accuracy: 0.9500\n",
      "Epoch 15/100\n",
      "160/160 [==============================] - 1s 4ms/sample - loss: 0.1579 - accuracy: 0.9625 - val_loss: 0.2898 - val_accuracy: 0.9250\n",
      "Epoch 16/100\n",
      "160/160 [==============================] - 1s 4ms/sample - loss: 0.1529 - accuracy: 0.9688 - val_loss: 0.2382 - val_accuracy: 0.9500\n",
      "Epoch 17/100\n",
      "160/160 [==============================] - 1s 4ms/sample - loss: 0.1337 - accuracy: 0.9625 - val_loss: 0.2230 - val_accuracy: 0.9500\n",
      "Epoch 18/100\n",
      "160/160 [==============================] - 1s 4ms/sample - loss: 0.1172 - accuracy: 0.9812 - val_loss: 0.2585 - val_accuracy: 0.9250\n",
      "Epoch 19/100\n",
      "160/160 [==============================] - 1s 4ms/sample - loss: 0.1148 - accuracy: 0.9750 - val_loss: 0.3838 - val_accuracy: 0.7250\n",
      "Epoch 20/100\n",
      "160/160 [==============================] - 1s 4ms/sample - loss: 0.1026 - accuracy: 0.9875 - val_loss: 0.2539 - val_accuracy: 0.9500\n",
      "Epoch 21/100\n",
      "160/160 [==============================] - 1s 4ms/sample - loss: 0.1043 - accuracy: 0.9625 - val_loss: 0.2166 - val_accuracy: 0.9500\n",
      "Epoch 22/100\n",
      "160/160 [==============================] - 1s 4ms/sample - loss: 0.1024 - accuracy: 0.9688 - val_loss: 0.2790 - val_accuracy: 0.9000\n",
      "Epoch 23/100\n",
      "160/160 [==============================] - 1s 4ms/sample - loss: 0.0750 - accuracy: 0.9812 - val_loss: 0.2723 - val_accuracy: 0.8750\n",
      "Epoch 24/100\n",
      "160/160 [==============================] - 1s 4ms/sample - loss: 0.0797 - accuracy: 0.9875 - val_loss: 0.1881 - val_accuracy: 0.9750\n",
      "Epoch 25/100\n",
      "160/160 [==============================] - 1s 4ms/sample - loss: 0.0746 - accuracy: 0.9875 - val_loss: 0.1827 - val_accuracy: 0.9750\n",
      "Epoch 26/100\n",
      "160/160 [==============================] - 1s 4ms/sample - loss: 0.0717 - accuracy: 0.9937 - val_loss: 0.1852 - val_accuracy: 0.9750\n",
      "Epoch 27/100\n",
      "160/160 [==============================] - 1s 4ms/sample - loss: 0.0644 - accuracy: 0.9937 - val_loss: 0.1772 - val_accuracy: 0.9750\n",
      "Epoch 28/100\n",
      "160/160 [==============================] - 1s 4ms/sample - loss: 0.0621 - accuracy: 0.9875 - val_loss: 0.1783 - val_accuracy: 0.9750\n",
      "Epoch 29/100\n",
      "160/160 [==============================] - 1s 4ms/sample - loss: 0.0643 - accuracy: 0.9937 - val_loss: 0.1771 - val_accuracy: 0.9750\n",
      "Epoch 30/100\n",
      "160/160 [==============================] - 1s 4ms/sample - loss: 0.0672 - accuracy: 0.9875 - val_loss: 0.2004 - val_accuracy: 0.9500\n",
      "Epoch 31/100\n",
      "160/160 [==============================] - 1s 4ms/sample - loss: 0.0617 - accuracy: 0.9937 - val_loss: 0.1759 - val_accuracy: 0.9750\n",
      "Epoch 32/100\n",
      "160/160 [==============================] - 1s 4ms/sample - loss: 0.0583 - accuracy: 0.9875 - val_loss: 0.1758 - val_accuracy: 0.9750\n",
      "Epoch 33/100\n",
      "160/160 [==============================] - 1s 3ms/sample - loss: 0.0570 - accuracy: 0.9937 - val_loss: 0.1778 - val_accuracy: 0.9750\n",
      "Epoch 34/100\n",
      "160/160 [==============================] - 1s 4ms/sample - loss: 0.0520 - accuracy: 0.9937 - val_loss: 0.1881 - val_accuracy: 0.9750\n",
      "Epoch 35/100\n",
      "160/160 [==============================] - 1s 4ms/sample - loss: 0.0499 - accuracy: 0.9937 - val_loss: 0.2177 - val_accuracy: 0.9250\n",
      "Epoch 36/100\n",
      "160/160 [==============================] - 1s 4ms/sample - loss: 0.0465 - accuracy: 0.9937 - val_loss: 0.1880 - val_accuracy: 0.9500\n",
      "Epoch 37/100\n",
      "160/160 [==============================] - 1s 5ms/sample - loss: 0.0414 - accuracy: 0.9937 - val_loss: 0.1887 - val_accuracy: 0.9750\n",
      "Epoch 38/100\n",
      "160/160 [==============================] - 1s 4ms/sample - loss: 0.0467 - accuracy: 0.9937 - val_loss: 0.1756 - val_accuracy: 0.9750\n",
      "Epoch 39/100\n",
      "160/160 [==============================] - 1s 4ms/sample - loss: 0.0415 - accuracy: 0.9937 - val_loss: 0.1791 - val_accuracy: 0.9750\n",
      "Epoch 40/100\n",
      "160/160 [==============================] - 1s 3ms/sample - loss: 0.0395 - accuracy: 0.9937 - val_loss: 0.1760 - val_accuracy: 0.9500\n",
      "Epoch 41/100\n",
      "160/160 [==============================] - 1s 5ms/sample - loss: 0.0365 - accuracy: 0.9937 - val_loss: 0.2084 - val_accuracy: 0.9250\n",
      "Epoch 42/100\n",
      "160/160 [==============================] - 1s 5ms/sample - loss: 0.0376 - accuracy: 0.9937 - val_loss: 0.2207 - val_accuracy: 0.9250\n",
      "Epoch 43/100\n",
      "160/160 [==============================] - 1s 4ms/sample - loss: 0.0363 - accuracy: 0.9937 - val_loss: 0.2257 - val_accuracy: 0.9250\n",
      "Epoch 44/100\n",
      "160/160 [==============================] - 1s 4ms/sample - loss: 0.0359 - accuracy: 0.9937 - val_loss: 0.1878 - val_accuracy: 0.9750\n",
      "Epoch 45/100\n",
      "160/160 [==============================] - 1s 5ms/sample - loss: 0.0335 - accuracy: 0.9937 - val_loss: 0.1823 - val_accuracy: 0.9500\n",
      "Epoch 46/100\n",
      "160/160 [==============================] - 1s 4ms/sample - loss: 0.0300 - accuracy: 0.9937 - val_loss: 0.2058 - val_accuracy: 0.9500\n",
      "Epoch 47/100\n",
      "160/160 [==============================] - 1s 5ms/sample - loss: 0.0297 - accuracy: 0.9937 - val_loss: 0.1855 - val_accuracy: 0.9750\n",
      "Epoch 48/100\n",
      "160/160 [==============================] - 1s 4ms/sample - loss: 0.0280 - accuracy: 0.9937 - val_loss: 0.1883 - val_accuracy: 0.9750\n",
      "Epoch 49/100\n",
      "160/160 [==============================] - 1s 4ms/sample - loss: 0.0254 - accuracy: 0.9937 - val_loss: 0.1885 - val_accuracy: 0.9750\n",
      "Epoch 50/100\n",
      "160/160 [==============================] - 1s 4ms/sample - loss: 0.0257 - accuracy: 0.9937 - val_loss: 0.1820 - val_accuracy: 0.9500\n",
      "Epoch 51/100\n",
      "160/160 [==============================] - 1s 4ms/sample - loss: 0.0239 - accuracy: 0.9937 - val_loss: 0.1975 - val_accuracy: 0.9500\n",
      "Epoch 52/100\n",
      "160/160 [==============================] - 1s 4ms/sample - loss: 0.0228 - accuracy: 1.0000 - val_loss: 0.1812 - val_accuracy: 0.9500\n",
      "Epoch 53/100\n",
      "160/160 [==============================] - 1s 5ms/sample - loss: 0.0234 - accuracy: 0.9937 - val_loss: 0.1900 - val_accuracy: 0.9500\n",
      "Epoch 54/100\n",
      "160/160 [==============================] - 1s 5ms/sample - loss: 0.0219 - accuracy: 1.0000 - val_loss: 0.1855 - val_accuracy: 0.9500\n",
      "Epoch 55/100\n",
      "160/160 [==============================] - 1s 5ms/sample - loss: 0.0203 - accuracy: 0.9937 - val_loss: 0.1867 - val_accuracy: 0.9500\n",
      "Epoch 56/100\n",
      "160/160 [==============================] - 1s 5ms/sample - loss: 0.0190 - accuracy: 1.0000 - val_loss: 0.1837 - val_accuracy: 0.9500\n",
      "Epoch 57/100\n",
      "160/160 [==============================] - 1s 5ms/sample - loss: 0.0193 - accuracy: 1.0000 - val_loss: 0.1830 - val_accuracy: 0.9500\n",
      "Epoch 58/100\n",
      "160/160 [==============================] - 1s 5ms/sample - loss: 0.0179 - accuracy: 1.0000 - val_loss: 0.1830 - val_accuracy: 0.9500\n",
      "Epoch 59/100\n",
      "160/160 [==============================] - 1s 5ms/sample - loss: 0.0199 - accuracy: 0.9937 - val_loss: 0.1871 - val_accuracy: 0.9500\n",
      "Epoch 60/100\n",
      "160/160 [==============================] - 1s 5ms/sample - loss: 0.0190 - accuracy: 1.0000 - val_loss: 0.1881 - val_accuracy: 0.9250\n",
      "Epoch 61/100\n",
      "160/160 [==============================] - 1s 6ms/sample - loss: 0.0172 - accuracy: 1.0000 - val_loss: 0.1855 - val_accuracy: 0.9500\n",
      "Epoch 62/100\n",
      "160/160 [==============================] - 1s 5ms/sample - loss: 0.0165 - accuracy: 1.0000 - val_loss: 0.1875 - val_accuracy: 0.9500\n",
      "Epoch 63/100\n",
      "160/160 [==============================] - 1s 5ms/sample - loss: 0.0147 - accuracy: 1.0000 - val_loss: 0.1865 - val_accuracy: 0.9500\n",
      "Epoch 64/100\n",
      "160/160 [==============================] - 1s 5ms/sample - loss: 0.0152 - accuracy: 1.0000 - val_loss: 0.1987 - val_accuracy: 0.9250\n",
      "Epoch 65/100\n",
      "160/160 [==============================] - 1s 5ms/sample - loss: 0.0157 - accuracy: 1.0000 - val_loss: 0.1948 - val_accuracy: 0.9250\n",
      "Epoch 66/100\n",
      "160/160 [==============================] - 1s 5ms/sample - loss: 0.0146 - accuracy: 1.0000 - val_loss: 0.1871 - val_accuracy: 0.9500\n",
      "Epoch 67/100\n",
      "160/160 [==============================] - 1s 5ms/sample - loss: 0.0150 - accuracy: 1.0000 - val_loss: 0.1926 - val_accuracy: 0.9250\n",
      "Epoch 68/100\n",
      "160/160 [==============================] - 1s 5ms/sample - loss: 0.0145 - accuracy: 1.0000 - val_loss: 0.1884 - val_accuracy: 0.9500\n",
      "Epoch 69/100\n",
      "160/160 [==============================] - 1s 4ms/sample - loss: 0.0131 - accuracy: 1.0000 - val_loss: 0.1900 - val_accuracy: 0.9500\n",
      "Epoch 70/100\n",
      "160/160 [==============================] - 1s 5ms/sample - loss: 0.0126 - accuracy: 1.0000 - val_loss: 0.2044 - val_accuracy: 0.9250\n",
      "Epoch 71/100\n",
      "160/160 [==============================] - 1s 5ms/sample - loss: 0.0132 - accuracy: 1.0000 - val_loss: 0.1899 - val_accuracy: 0.9500\n",
      "Epoch 72/100\n",
      "160/160 [==============================] - 1s 5ms/sample - loss: 0.0119 - accuracy: 1.0000 - val_loss: 0.2163 - val_accuracy: 0.9500\n",
      "Epoch 73/100\n",
      "160/160 [==============================] - 1s 4ms/sample - loss: 0.0137 - accuracy: 1.0000 - val_loss: 0.1954 - val_accuracy: 0.9250\n",
      "Epoch 74/100\n",
      "160/160 [==============================] - 1s 4ms/sample - loss: 0.0120 - accuracy: 1.0000 - val_loss: 0.1928 - val_accuracy: 0.9500\n",
      "Epoch 75/100\n",
      "160/160 [==============================] - 1s 4ms/sample - loss: 0.0114 - accuracy: 1.0000 - val_loss: 0.2014 - val_accuracy: 0.9250\n",
      "Epoch 76/100\n",
      "160/160 [==============================] - 1s 4ms/sample - loss: 0.0112 - accuracy: 1.0000 - val_loss: 0.1924 - val_accuracy: 0.9500\n",
      "Epoch 77/100\n",
      "160/160 [==============================] - 1s 4ms/sample - loss: 0.0113 - accuracy: 1.0000 - val_loss: 0.1930 - val_accuracy: 0.9500\n",
      "Epoch 78/100\n",
      "160/160 [==============================] - 1s 4ms/sample - loss: 0.0113 - accuracy: 1.0000 - val_loss: 0.1934 - val_accuracy: 0.9500\n",
      "Epoch 79/100\n",
      "160/160 [==============================] - 1s 5ms/sample - loss: 0.0109 - accuracy: 1.0000 - val_loss: 0.1940 - val_accuracy: 0.9500\n",
      "Epoch 80/100\n",
      "160/160 [==============================] - 1s 5ms/sample - loss: 0.0104 - accuracy: 1.0000 - val_loss: 0.1951 - val_accuracy: 0.9500\n",
      "Epoch 81/100\n",
      "160/160 [==============================] - 1s 4ms/sample - loss: 0.0105 - accuracy: 1.0000 - val_loss: 0.1975 - val_accuracy: 0.9250\n",
      "Epoch 82/100\n",
      "160/160 [==============================] - 1s 5ms/sample - loss: 0.0101 - accuracy: 1.0000 - val_loss: 0.2056 - val_accuracy: 0.9250\n",
      "Epoch 83/100\n",
      "160/160 [==============================] - 1s 4ms/sample - loss: 0.0105 - accuracy: 1.0000 - val_loss: 0.1960 - val_accuracy: 0.9500\n",
      "Epoch 84/100\n",
      "160/160 [==============================] - 1s 4ms/sample - loss: 0.0097 - accuracy: 1.0000 - val_loss: 0.1985 - val_accuracy: 0.9500\n",
      "Epoch 85/100\n",
      "160/160 [==============================] - 1s 4ms/sample - loss: 0.0100 - accuracy: 1.0000 - val_loss: 0.1985 - val_accuracy: 0.9250\n",
      "Epoch 86/100\n",
      "160/160 [==============================] - 1s 5ms/sample - loss: 0.0096 - accuracy: 1.0000 - val_loss: 0.1983 - val_accuracy: 0.9250\n",
      "Epoch 87/100\n",
      "160/160 [==============================] - 1s 5ms/sample - loss: 0.0095 - accuracy: 1.0000 - val_loss: 0.1991 - val_accuracy: 0.9250\n",
      "Epoch 88/100\n",
      "160/160 [==============================] - 1s 5ms/sample - loss: 0.0095 - accuracy: 1.0000 - val_loss: 0.1973 - val_accuracy: 0.9500\n",
      "Epoch 89/100\n",
      "160/160 [==============================] - 1s 5ms/sample - loss: 0.0092 - accuracy: 1.0000 - val_loss: 0.1976 - val_accuracy: 0.9500\n",
      "Epoch 90/100\n",
      "160/160 [==============================] - 1s 5ms/sample - loss: 0.0090 - accuracy: 1.0000 - val_loss: 0.1988 - val_accuracy: 0.9250\n",
      "Epoch 91/100\n",
      "160/160 [==============================] - 1s 5ms/sample - loss: 0.0090 - accuracy: 1.0000 - val_loss: 0.1988 - val_accuracy: 0.9500\n",
      "Epoch 92/100\n",
      "160/160 [==============================] - 1s 4ms/sample - loss: 0.0087 - accuracy: 1.0000 - val_loss: 0.2002 - val_accuracy: 0.9250\n",
      "Epoch 93/100\n",
      "160/160 [==============================] - 1s 5ms/sample - loss: 0.0089 - accuracy: 1.0000 - val_loss: 0.2016 - val_accuracy: 0.9250\n",
      "Epoch 94/100\n",
      "160/160 [==============================] - 1s 5ms/sample - loss: 0.0087 - accuracy: 1.0000 - val_loss: 0.2015 - val_accuracy: 0.9250\n",
      "Epoch 95/100\n",
      "160/160 [==============================] - 1s 4ms/sample - loss: 0.0085 - accuracy: 1.0000 - val_loss: 0.2002 - val_accuracy: 0.9250\n",
      "Epoch 96/100\n",
      "160/160 [==============================] - 1s 4ms/sample - loss: 0.0083 - accuracy: 1.0000 - val_loss: 0.1996 - val_accuracy: 0.9500\n",
      "Epoch 97/100\n",
      "160/160 [==============================] - 1s 4ms/sample - loss: 0.0082 - accuracy: 1.0000 - val_loss: 0.1997 - val_accuracy: 0.9500\n",
      "Epoch 98/100\n",
      "160/160 [==============================] - 1s 5ms/sample - loss: 0.0082 - accuracy: 1.0000 - val_loss: 0.2025 - val_accuracy: 0.9250\n",
      "Epoch 99/100\n",
      "160/160 [==============================] - 1s 4ms/sample - loss: 0.0080 - accuracy: 1.0000 - val_loss: 0.2082 - val_accuracy: 0.9250\n",
      "Epoch 100/100\n",
      "160/160 [==============================] - 1s 4ms/sample - loss: 0.0082 - accuracy: 1.0000 - val_loss: 0.2006 - val_accuracy: 0.9500\n"
     ]
    }
   ],
   "source": [
    "model=cnn.fit(x=Xx_train, y=yy_train, batch_size=3, epochs=100, verbose=1,validation_data=(Xx_test,yy_test))"
   ]
  },
  {
   "cell_type": "code",
   "execution_count": 35,
   "metadata": {
    "collapsed": true
   },
   "outputs": [],
   "source": [
    "def plot_acc_valgraph(model,num):\n",
    "    plt.figure(num)\n",
    "    plt.plot(model.history['accuracy'])\n",
    "    plt.plot(model.history['val_accuracy'])\n",
    "    plt.legend(['Training','Validation'])\n",
    "    plt.title('Accuracy')\n",
    "    plt.xlabel('Epochs')"
   ]
  },
  {
   "cell_type": "code",
   "execution_count": 36,
   "metadata": {},
   "outputs": [
    {
     "data": {
      "image/png": "[encoded data removed]",
      "text/plain": [
       "<Figure size 432x288 with 1 Axes>"
      ]
     },
     "metadata": {
      "needs_background": "light"
     },
     "output_type": "display_data"
    }
   ],
   "source": [
    "plot_acc_valgraph(model,1)"
   ]
  },
  {
   "cell_type": "code",
   "execution_count": 37,
   "metadata": {},
   "outputs": [
    {
     "name": "stdout",
     "output_type": "stream",
     "text": [
      "Test loss: 6.597905009984969\n",
      "Test accuracy: 94.9999988079071\n"
     ]
    }
   ],
   "source": [
    "# evaluate the model\n",
    "score = cnn.evaluate(Xx_test, yy_test, verbose=0)\n",
    "print('Test loss:', score[0]*100)\n",
    "print('Test accuracy:', score[1]*100)"
   ]
  },
  {
   "cell_type": "code",
   "execution_count": 38,
   "metadata": {},
   "outputs": [
    {
     "name": "stdout",
     "output_type": "stream",
     "text": [
      "40/40 [==============================] - 0s 3ms/sample\n"
     ]
    }
   ],
   "source": [
    "yy_pred=cnn.predict(x=Xx_test, verbose=1)"
   ]
  },
  {
   "cell_type": "code",
   "execution_count": 39,
   "metadata": {},
   "outputs": [
    {
     "data": {
      "text/plain": [
       "array([0, 0, 0, 1, 1, 1, 0, 1, 1, 0, 0, 1, 1, 0, 1, 1, 0, 1, 0, 0, 1, 0,\n",
       "       1, 0, 0, 0, 0, 0, 1, 1, 0, 0, 0, 0, 1, 1, 1, 1, 1, 0])"
      ]
     },
     "execution_count": 39,
     "metadata": {},
     "output_type": "execute_result"
    }
   ],
   "source": [
    "yy_test"
   ]
  },
  {
   "cell_type": "code",
   "execution_count": 40,
   "metadata": {},
   "outputs": [
    {
     "data": {
      "text/plain": [
       "array([[9.9489754e-01, 5.1024510e-03],\n",
       "       [9.8649293e-01, 1.3507112e-02],\n",
       "       [9.7962660e-01, 2.0373436e-02],\n",
       "       [4.3046885e-04, 9.9956948e-01],\n",
       "       [1.6565058e-01, 8.3434945e-01],\n",
       "       [3.9655683e-07, 9.9999964e-01],\n",
       "       [9.9823219e-01, 1.7678584e-03],\n",
       "       [3.7049747e-03, 9.9629503e-01],\n",
       "       [4.6613571e-04, 9.9953389e-01],\n",
       "       [9.9288356e-01, 7.1164272e-03],\n",
       "       [9.6716034e-01, 3.2839667e-02],\n",
       "       [3.0524358e-03, 9.9694759e-01],\n",
       "       [3.3666395e-02, 9.6633363e-01],\n",
       "       [9.9956995e-01, 4.3008864e-04],\n",
       "       [6.1999357e-01, 3.8000643e-01],\n",
       "       [3.0312528e-06, 9.9999702e-01],\n",
       "       [9.9924111e-01, 7.5891195e-04],\n",
       "       [5.7380319e-01, 4.2619684e-01],\n",
       "       [9.9678999e-01, 3.2100317e-03],\n",
       "       [9.9938273e-01, 6.1723305e-04],\n",
       "       [4.9009257e-05, 9.9995100e-01],\n",
       "       [9.8603106e-01, 1.3968878e-02],\n",
       "       [7.3844544e-04, 9.9926156e-01],\n",
       "       [9.9979693e-01, 2.0305895e-04],\n",
       "       [9.8945206e-01, 1.0547945e-02],\n",
       "       [9.4768775e-01, 5.2312285e-02],\n",
       "       [9.8522097e-01, 1.4779047e-02],\n",
       "       [8.6110371e-01, 1.3889626e-01],\n",
       "       [4.0677427e-05, 9.9995935e-01],\n",
       "       [8.1333514e-05, 9.9991870e-01],\n",
       "       [9.9997807e-01, 2.1934009e-05],\n",
       "       [9.7119689e-01, 2.8803175e-02],\n",
       "       [9.8011106e-01, 1.9888915e-02],\n",
       "       [9.9622524e-01, 3.7747929e-03],\n",
       "       [1.4562372e-02, 9.8543763e-01],\n",
       "       [1.2977839e-04, 9.9987018e-01],\n",
       "       [2.0382470e-06, 9.9999797e-01],\n",
       "       [9.9310762e-07, 9.9999905e-01],\n",
       "       [1.5783019e-01, 8.4216988e-01],\n",
       "       [9.7486025e-01, 2.5139816e-02]], dtype=float32)"
      ]
     },
     "execution_count": 40,
     "metadata": {},
     "output_type": "execute_result"
    }
   ],
   "source": [
    "yy_pred"
   ]
  },
  {
   "cell_type": "code",
   "execution_count": 41,
   "metadata": {
    "collapsed": true
   },
   "outputs": [],
   "source": [
    "yy_pred1 = np.argmax(yy_pred, axis=1)"
   ]
  },
  {
   "cell_type": "code",
   "execution_count": 42,
   "metadata": {},
   "outputs": [
    {
     "name": "stdout",
     "output_type": "stream",
     "text": [
      "95.0\n"
     ]
    }
   ],
   "source": [
    "accuracy = accuracy_score(yy_test, yy_pred1)\n",
    "print(accuracy*100)"
   ]
  },
  {
   "cell_type": "code",
   "execution_count": 43,
   "metadata": {
    "collapsed": true
   },
   "outputs": [],
   "source": [
    "def plot_confusion_matrix(y_true, y_pred, classes,\n",
    "                          title=None,\n",
    "                          cmap=plt.cm.Blues):\n",
    "    \"\"\"\n",
    "    This function prints and plots the confusion matrix.\n",
    "    Normalization can be applied by setting `normalize=True`.\n",
    "    \"\"\"\n",
    "    # Compute confusion matrix\n",
    "    cm = confusion_matrix(y_true, y_pred)\n",
    "    print(cm)\n",
    "\n",
    "    fig, ax = plt.subplots()\n",
    "    im = ax.imshow(cm, interpolation='nearest', cmap=cmap)\n",
    "    ax.figure.colorbar(im, ax=ax)\n",
    "    # We want to show all ticks...\n",
    "    ax.set(xticks=np.arange(cm.shape[1]),\n",
    "           yticks=np.arange(cm.shape[0]),\n",
    "           # ... and label them with the respective list entries\n",
    "           xticklabels=classes, yticklabels=classes,\n",
    "           title=title,\n",
    "           ylabel='True label',\n",
    "           xlabel='Predicted label')\n",
    "\n",
    "    # Rotate the tick labels and set their alignment.\n",
    "    plt.setp(ax.get_xticklabels(), rotation=45, ha=\"right\",\n",
    "             rotation_mode=\"anchor\")\n",
    "\n",
    "    # Loop over data dimensions and create text annotations.\n",
    "    # '.2f' if normalize else \n",
    "    fmt = 'd'\n",
    "    thresh = cm.max() / 2.\n",
    "    for i in range(cm.shape[0]):\n",
    "        for j in range(cm.shape[1]):\n",
    "            ax.text(j, i, format(cm[i, j], fmt),\n",
    "                    ha=\"center\", va=\"center\",\n",
    "                    color=\"white\" if cm[i, j] > thresh else \"black\")\n",
    "    fig.tight_layout()\n",
    "    return ax"
   ]
  },
  {
   "cell_type": "code",
   "execution_count": 44,
   "metadata": {},
   "outputs": [
    {
     "name": "stdout",
     "output_type": "stream",
     "text": [
      "[[21  0]\n",
      " [ 2 17]]\n"
     ]
    },
    {
     "data": {
      "image/png": "[encoded data removed]",
      "text/plain": [
       "<Figure size 432x288 with 2 Axes>"
      ]
     },
     "metadata": {
      "needs_background": "light"
     },
     "output_type": "display_data"
    }
   ],
   "source": [
    "confusion_mat= plot_confusion_matrix(yy_test, yy_pred1, classes=[0,1], title='Confusion matrix - Bonn Database')"
   ]
  },
  {
   "cell_type": "code",
   "execution_count": 45,
   "metadata": {},
   "outputs": [
    {
     "name": "stdout",
     "output_type": "stream",
     "text": [
      "                precision    recall  f1-score   support\n",
      "\n",
      "Non-Seizure(0)       0.91      1.00      0.95        21\n",
      "    Seizure(1)       1.00      0.89      0.94        19\n",
      "\n",
      "      accuracy                           0.95        40\n",
      "     macro avg       0.96      0.95      0.95        40\n",
      "  weighted avg       0.95      0.95      0.95        40\n",
      "\n"
     ]
    }
   ],
   "source": [
    "from sklearn.metrics import classification_report\n",
    "print(classification_report(yy_test,yy_pred1,target_names = ['Non-Seizure(0)', 'Seizure(1)']))"
   ]
  },
  {
   "cell_type": "code",
   "execution_count": 35,
   "metadata": {
    "collapsed": true
   },
   "outputs": [],
   "source": [
    "#from tensorflow.keras.models import load_model\n",
    "\n",
    "cnn.save('BONN_CNN_MODEL.h5')  # creates a HDF5 file 'my_model.h5'\n",
    "\n",
    "\n",
    "# returns a compiled model\n",
    "# identical to the previous one\n",
    "#model = load_model('my_model.h5')"
   ]
  },
  {
   "cell_type": "code",
   "execution_count": 46,
   "metadata": {},
   "outputs": [
    {
     "name": "stderr",
     "output_type": "stream",
     "text": [
      "W0619 19:54:29.867009 140314562750208 hdf5_format.py:171] No training configuration found in save file: the model was *not* compiled. Compile it manually.\n"
     ]
    }
   ],
   "source": [
    "# load generator\n",
    "from tensorflow.keras.models import load_model\n",
    "gen = load_model('./GAN_Generator_model2.h5')"
   ]
  },
  {
   "cell_type": "code",
   "execution_count": 47,
   "metadata": {
    "collapsed": true
   },
   "outputs": [],
   "source": [
    "# generate 100 synthetic seizure signals\n",
    "signal_gen = []\n",
    "for i in range(0,100):\n",
    "    noise = tf.random.normal([1, 100])\n",
    "    generated_signal = gen(noise, training=False)\n",
    "    generated_signal = generated_signal[:,:,0,:]\n",
    "    signal_gen.append(generated_signal[0])\n"
   ]
  },
  {
   "cell_type": "code",
   "execution_count": 48,
   "metadata": {
    "collapsed": true
   },
   "outputs": [],
   "source": [
    "signal_gen = np.array(signal_gen)"
   ]
  },
  {
   "cell_type": "code",
   "execution_count": 123,
   "metadata": {},
   "outputs": [],
   "source": [
    "# obtain 100 real non-seizure signals\n",
    "#from sklearn.preprocessing import normalize\n",
    "#path='D:/'\n",
    "dr='Z'\n",
    "sfilenames=[]\n",
    "\n",
    "if dr=='N':\n",
    "    end='/*.TXT'\n",
    "else:\n",
    "    end='/*.txt' \n",
    "\n",
    "#end='/*.txt'\n",
    "sfilenames=glob.glob(path + dr + end)\n",
    "import numpy as np\n",
    "import pandas as pd\n",
    "\n",
    "def generate_datasets(filenames):\n",
    "    arry=[]    \n",
    "    for files in filenames:\n",
    "        df=pd.read_table(files,names=\"X\")\n",
    "        arry.append(np.array(df,dtype=\"float32\"))\n",
    "    return np.array(arry) "
   ]
  },
  {
   "cell_type": "code",
   "execution_count": 124,
   "metadata": {},
   "outputs": [
    {
     "data": {
      "text/plain": [
       "100"
      ]
     },
     "execution_count": 124,
     "metadata": {},
     "output_type": "execute_result"
    }
   ],
   "source": [
    "len(sfilenames)"
   ]
  },
  {
   "cell_type": "code",
   "execution_count": 125,
   "metadata": {},
   "outputs": [],
   "source": [
    "signals = generate_datasets(sfilenames)\n",
    "### try normalising whole dataset"
   ]
  },
  {
   "cell_type": "code",
   "execution_count": 126,
   "metadata": {},
   "outputs": [],
   "source": [
    "X = signals\n",
    "XC=X\n",
    "X1=X.reshape(len(X)*4097,order='F')\n",
    "X2=X1.reshape(4097,len(X))\n",
    "\n",
    "X2=scaler.fit_transform(X2)# normalize(X2,axis=1) \n",
    "\n",
    "X3=np.reshape(X2,4097*len(X),order='F')\n",
    "X4=X3.reshape(len(X),4097,1)\n",
    "X=X4\n",
    "signals = X"
   ]
  },
  {
   "cell_type": "code",
   "execution_count": 111,
   "metadata": {},
   "outputs": [
    {
     "data": {
      "text/plain": [
       "\"\\n# Normalising synthetic signals\\nX = signal_gen\\nXC=X\\nX1=X.reshape(len(X)*4097,order='F')\\nX2=X1.reshape(4097,len(X))\\n\\nX2=normalize(X2,axis=1)\\n\\nX3=np.reshape(X2,4097*len(X),order='F')\\nX4=X3.reshape(len(X),4097,1)\\nX=X4\\nsignal_gen = X\\n\""
      ]
     },
     "execution_count": 111,
     "metadata": {},
     "output_type": "execute_result"
    }
   ],
   "source": [
    "'''\n",
    "# Normalising synthetic signals\n",
    "X = signal_gen\n",
    "XC=X\n",
    "X1=X.reshape(len(X)*4097,order='F')\n",
    "X2=X1.reshape(4097,len(X))\n",
    "\n",
    "X2=normalize(X2,axis=1)\n",
    "\n",
    "X3=np.reshape(X2,4097*len(X),order='F')\n",
    "X4=X3.reshape(len(X),4097,1)\n",
    "X=X4\n",
    "signal_gen = X\n",
    "'''"
   ]
  },
  {
   "cell_type": "code",
   "execution_count": 112,
   "metadata": {},
   "outputs": [
    {
     "data": {
      "text/plain": [
       "(200, 4097, 1)"
      ]
     },
     "execution_count": 112,
     "metadata": {},
     "output_type": "execute_result"
    }
   ],
   "source": [
    "x_test = np.append(signal_gen,signals, axis=0)  # 1,0\n",
    "x_test.shape"
   ]
  },
  {
   "cell_type": "code",
   "execution_count": 113,
   "metadata": {},
   "outputs": [
    {
     "data": {
      "text/plain": [
       "(200, 4097, 1)"
      ]
     },
     "execution_count": 113,
     "metadata": {},
     "output_type": "execute_result"
    }
   ],
   "source": [
    "x_test.shape"
   ]
  },
  {
   "cell_type": "code",
   "execution_count": 114,
   "metadata": {},
   "outputs": [
    {
     "data": {
      "text/plain": [
       "(200,)"
      ]
     },
     "execution_count": 114,
     "metadata": {},
     "output_type": "execute_result"
    }
   ],
   "source": [
    "y_zero = np.zeros((100,),dtype='int64')\n",
    "y_ones = np.ones((100,),dtype='int64')\n",
    "y_test = np.append(y_ones, y_zero, axis=0)\n",
    "y_test.shape\n"
   ]
  },
  {
   "cell_type": "code",
   "execution_count": 115,
   "metadata": {},
   "outputs": [
    {
     "data": {
      "text/plain": [
       "array([1, 1, 1, 1, 1, 1, 1, 1, 1, 1, 1, 1, 1, 1, 1, 1, 1, 1, 1, 1, 1, 1,\n",
       "       1, 1, 1, 1, 1, 1, 1, 1, 1, 1, 1, 1, 1, 1, 1, 1, 1, 1, 1, 1, 1, 1,\n",
       "       1, 1, 1, 1, 1, 1, 1, 1, 1, 1, 1, 1, 1, 1, 1, 1, 1, 1, 1, 1, 1, 1,\n",
       "       1, 1, 1, 1, 1, 1, 1, 1, 1, 1, 1, 1, 1, 1, 1, 1, 1, 1, 1, 1, 1, 1,\n",
       "       1, 1, 1, 1, 1, 1, 1, 1, 1, 1, 1, 1, 0, 0, 0, 0, 0, 0, 0, 0, 0, 0,\n",
       "       0, 0, 0, 0, 0, 0, 0, 0, 0, 0, 0, 0, 0, 0, 0, 0, 0, 0, 0, 0, 0, 0,\n",
       "       0, 0, 0, 0, 0, 0, 0, 0, 0, 0, 0, 0, 0, 0, 0, 0, 0, 0, 0, 0, 0, 0,\n",
       "       0, 0, 0, 0, 0, 0, 0, 0, 0, 0, 0, 0, 0, 0, 0, 0, 0, 0, 0, 0, 0, 0,\n",
       "       0, 0, 0, 0, 0, 0, 0, 0, 0, 0, 0, 0, 0, 0, 0, 0, 0, 0, 0, 0, 0, 0,\n",
       "       0, 0])"
      ]
     },
     "execution_count": 115,
     "metadata": {},
     "output_type": "execute_result"
    }
   ],
   "source": [
    "y_test"
   ]
  },
  {
   "cell_type": "code",
   "execution_count": 116,
   "metadata": {},
   "outputs": [
    {
     "name": "stdout",
     "output_type": "stream",
     "text": [
      "Test loss: 2.4479124695059227\n",
      "Test accuracy: 100.0\n"
     ]
    }
   ],
   "source": [
    "# evaluate the model\n",
    "score = cnn.evaluate(x_test, y_test, verbose=0)\n",
    "print('Test loss:', score[0]*100)\n",
    "print('Test accuracy:', score[1]*100)"
   ]
  },
  {
   "cell_type": "code",
   "execution_count": 117,
   "metadata": {},
   "outputs": [
    {
     "name": "stdout",
     "output_type": "stream",
     "text": [
      "200/200 [==============================] - 0s 73us/sample\n"
     ]
    }
   ],
   "source": [
    "y_pred2 = cnn.predict(x=x_test, verbose=1)"
   ]
  },
  {
   "cell_type": "code",
   "execution_count": 118,
   "metadata": {
    "collapsed": true
   },
   "outputs": [],
   "source": [
    "y_pred3 = np.argmax(y_pred2, axis=1)"
   ]
  },
  {
   "cell_type": "code",
   "execution_count": 119,
   "metadata": {},
   "outputs": [
    {
     "data": {
      "text/plain": [
       "array([1, 1, 1, 1, 1, 1, 1, 1, 1, 1, 1, 1, 1, 1, 1, 1, 1, 1, 1, 1, 1, 1,\n",
       "       1, 1, 1, 1, 1, 1, 1, 1, 1, 1, 1, 1, 1, 1, 1, 1, 1, 1, 1, 1, 1, 1,\n",
       "       1, 1, 1, 1, 1, 1, 1, 1, 1, 1, 1, 1, 1, 1, 1, 1, 1, 1, 1, 1, 1, 1,\n",
       "       1, 1, 1, 1, 1, 1, 1, 1, 1, 1, 1, 1, 1, 1, 1, 1, 1, 1, 1, 1, 1, 1,\n",
       "       1, 1, 1, 1, 1, 1, 1, 1, 1, 1, 1, 1, 0, 0, 0, 0, 0, 0, 0, 0, 0, 0,\n",
       "       0, 0, 0, 0, 0, 0, 0, 0, 0, 0, 0, 0, 0, 0, 0, 0, 0, 0, 0, 0, 0, 0,\n",
       "       0, 0, 0, 0, 0, 0, 0, 0, 0, 0, 0, 0, 0, 0, 0, 0, 0, 0, 0, 0, 0, 0,\n",
       "       0, 0, 0, 0, 0, 0, 0, 0, 0, 0, 0, 0, 0, 0, 0, 0, 0, 0, 0, 0, 0, 0,\n",
       "       0, 0, 0, 0, 0, 0, 0, 0, 0, 0, 0, 0, 0, 0, 0, 0, 0, 0, 0, 0, 0, 0,\n",
       "       0, 0])"
      ]
     },
     "execution_count": 119,
     "metadata": {},
     "output_type": "execute_result"
    }
   ],
   "source": [
    "y_pred3"
   ]
  },
  {
   "cell_type": "code",
   "execution_count": 120,
   "metadata": {},
   "outputs": [
    {
     "name": "stdout",
     "output_type": "stream",
     "text": [
      "100.0\n"
     ]
    }
   ],
   "source": [
    "accuracy = accuracy_score(y_test, y_pred3)\n",
    "print(accuracy*100)"
   ]
  },
  {
   "cell_type": "code",
   "execution_count": 121,
   "metadata": {},
   "outputs": [
    {
     "name": "stdout",
     "output_type": "stream",
     "text": [
      "[[100   0]\n",
      " [  0 100]]\n"
     ]
    },
    {
     "data": {
      "image/png": "[encoded data removed]",
      "text/plain": [
       "<Figure size 432x288 with 2 Axes>"
      ]
     },
     "metadata": {
      "needs_background": "light"
     },
     "output_type": "display_data"
    }
   ],
   "source": [
    "confusion_mat = plot_confusion_matrix(y_test, y_pred3, classes=[0,1], title='Confusion matrix - Bonn Database')"
   ]
  },
  {
   "cell_type": "code",
   "execution_count": 122,
   "metadata": {},
   "outputs": [
    {
     "name": "stdout",
     "output_type": "stream",
     "text": [
      "                precision    recall  f1-score   support\n",
      "\n",
      "Non-Seizure(0)       1.00      1.00      1.00       100\n",
      "    Seizure(1)       1.00      1.00      1.00       100\n",
      "\n",
      "      accuracy                           1.00       200\n",
      "     macro avg       1.00      1.00      1.00       200\n",
      "  weighted avg       1.00      1.00      1.00       200\n",
      "\n"
     ]
    }
   ],
   "source": [
    "from sklearn.metrics import classification_report\n",
    "print(classification_report(y_test,y_pred3,target_names = ['Non-Seizure(0)', 'Seizure(1)']))"
   ]
  }
 ],
 "metadata": {
  "anaconda-cloud": {},
  "kernelspec": {
   "display_name": "Python 3",
   "language": "python",
   "name": "python3"
  },
  "language_info": {
   "codemirror_mode": {
    "name": "ipython",
    "version": 3
   },
   "file_extension": ".py",
   "mimetype": "text/x-python",
   "name": "python",
   "nbconvert_exporter": "python",
   "pygments_lexer": "ipython3",
   "version": "3.7.3"
  }
 },
 "nbformat": 4,
 "nbformat_minor": 2
}
